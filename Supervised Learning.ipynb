{
 "cells": [
  {
   "cell_type": "markdown",
   "id": "9ec87e28",
   "metadata": {},
   "source": [
    "<center style='font-size:28px;'><u><b>Supervised Learning</b></u></center>"
   ]
  },
  {
   "cell_type": "markdown",
   "id": "e6b2ea52",
   "metadata": {},
   "source": [
    "1. [Project Description](#start)\n",
    "    * [Data Description](#dd)\n",
    "2. [Imports](#imp)\n",
    "3. [Preprocessing data](#pp)    \n",
    "4. [Model Training - Disregarding Class Imbalance](#mtdci)\n",
    "    * [Categorising `churn`'s columns](#cgcscs)\n",
    "    * [Tree Approach](#trap)\n",
    "        * [Label Encoding](#labenc)\n",
    "        * [OHE](#ohe)\n",
    "    * [Logistic Regression Approach](#lograp)\n",
    "    * [Class Balance Analysis](#claba)\n",
    "    * [Initial Training Summation](#intsum)\n",
    "5. [Fixing Class Imbalance](#fxclimb)\n",
    "    * [Tree Approach](#trapp)\n",
    "    * [Logistic Regression Approach](#lograpp)\n",
    "    * [Imbalance Fix Summation](#imbfsu)\n",
    "5. [Final Testing](#fintest)\n",
    "5. [Conclusion](#conc)"
   ]
  },
  {
   "cell_type": "markdown",
   "id": "2a431068",
   "metadata": {},
   "source": [
    "# Project description <a id=\"start\"></a>"
   ]
  },
  {
   "cell_type": "markdown",
   "id": "685e1cc1",
   "metadata": {},
   "source": [
    "<ul>Beta Bank customers are leaving: little by little, chipping away every month. The bankers figured out it’s cheaper to save the existing customers rather than to attract new ones.</ul>\n",
    "<ul>They want to know if a customer will leave the bank soon.</ul>\n",
    "<ul>Using data on clients’ past behavior and termination of contracts with the bank, predictions will be held.</ul>\n",
    "\n",
    "<div><b>In particular:</b></div>\n",
    "\n",
    "- A model for predicting leaving customers will be built, aiming for a F1 score greater than 0.59\n",
    "- Models will be trained, tuned and evaluated\n",
    "- Class imbalance effect on model performance will be fixed and analysed\n",
    "- AUC-ROC and F1 metrics will be calculated before and after balancing"
   ]
  },
  {
   "cell_type": "markdown",
   "id": "402263d0",
   "metadata": {},
   "source": [
    "## Description of the data <a id=\"dd\"></a>"
   ]
  },
  {
   "cell_type": "markdown",
   "id": "c0e72fc4",
   "metadata": {},
   "source": [
    "**Churn**\n",
    "- Features\n",
    "<ul>RowNumber — data string index</ul>\n",
    "<ul>CustomerId — unique customer identifier</ul>\n",
    "<ul>Surname — surname</ul>\n",
    "<ul>CreditScore — credit score</ul>\n",
    "<ul>Geography — country of residence</ul>\n",
    "<ul>Gender — gender</ul>\n",
    "<ul>Age — age</ul>\n",
    "<ul>Tenure — period of maturation for a customer’s fixed deposit (years)</ul>\n",
    "<ul>Balance — account balance</ul>\n",
    "<ul>NumOfProducts — number of banking products used by the customer</ul>\n",
    "<ul>HasCrCard — customer has a credit card</ul>\n",
    "<ul>IsActiveMember — customer’s activeness</ul>\n",
    "<ul>EstimatedSalary — estimated salary</ul>\n",
    "- Target\n",
    "<ul>Exited — сustomer has left</ul>"
   ]
  },
  {
   "cell_type": "markdown",
   "id": "ba66dcfe",
   "metadata": {},
   "source": [
    "# Imports <a id=\"imp\"></a>"
   ]
  },
  {
   "cell_type": "code",
   "execution_count": 1,
   "id": "4b19ba4a",
   "metadata": {},
   "outputs": [],
   "source": [
    "#pip install -U scikit-learn"
   ]
  },
  {
   "cell_type": "code",
   "execution_count": 2,
   "id": "b5fc38c3",
   "metadata": {},
   "outputs": [],
   "source": [
    "import pandas as pd\n",
    "import numpy as np\n",
    "import matplotlib.pyplot as plt\n",
    "from sklearn.tree import DecisionTreeClassifier\n",
    "from sklearn.ensemble import RandomForestClassifier\n",
    "from sklearn.linear_model import LogisticRegression \n",
    "from sklearn.preprocessing import StandardScaler\n",
    "from sklearn.preprocessing import OrdinalEncoder\n",
    "from sklearn.model_selection import train_test_split\n",
    "from sklearn.utils import shuffle\n",
    "from sklearn.metrics import f1_score\n",
    "from sklearn.metrics import roc_auc_score\n",
    "from sklearn.metrics import roc_curve\n",
    "from sklearn.metrics import precision_recall_curve\n",
    "import warnings\n",
    "warnings.filterwarnings('ignore')"
   ]
  },
  {
   "cell_type": "markdown",
   "id": "d19e0fec",
   "metadata": {},
   "source": [
    "# Pre-Processing <a id=\"pp\"></a>"
   ]
  },
  {
   "cell_type": "code",
   "execution_count": 3,
   "id": "6def9aec",
   "metadata": {},
   "outputs": [],
   "source": [
    "try:\n",
    "    churn = pd.read_csv('Churn.csv')\n",
    "except:\n",
    "    churn = pd.read_csv('/datasets/Churn.csv')"
   ]
  },
  {
   "cell_type": "code",
   "execution_count": 4,
   "id": "8c667c28",
   "metadata": {},
   "outputs": [
    {
     "name": "stdout",
     "output_type": "stream",
     "text": [
      "<class 'pandas.core.frame.DataFrame'>\n",
      "RangeIndex: 10000 entries, 0 to 9999\n",
      "Data columns (total 14 columns):\n",
      " #   Column           Non-Null Count  Dtype  \n",
      "---  ------           --------------  -----  \n",
      " 0   RowNumber        10000 non-null  int64  \n",
      " 1   CustomerId       10000 non-null  int64  \n",
      " 2   Surname          10000 non-null  object \n",
      " 3   CreditScore      10000 non-null  int64  \n",
      " 4   Geography        10000 non-null  object \n",
      " 5   Gender           10000 non-null  object \n",
      " 6   Age              10000 non-null  int64  \n",
      " 7   Tenure           9091 non-null   float64\n",
      " 8   Balance          10000 non-null  float64\n",
      " 9   NumOfProducts    10000 non-null  int64  \n",
      " 10  HasCrCard        10000 non-null  int64  \n",
      " 11  IsActiveMember   10000 non-null  int64  \n",
      " 12  EstimatedSalary  10000 non-null  float64\n",
      " 13  Exited           10000 non-null  int64  \n",
      "dtypes: float64(3), int64(8), object(3)\n",
      "memory usage: 1.1+ MB\n"
     ]
    }
   ],
   "source": [
    "churn.info()"
   ]
  },
  {
   "cell_type": "code",
   "execution_count": 5,
   "id": "8fc190a9",
   "metadata": {},
   "outputs": [
    {
     "data": {
      "text/plain": [
       "10000"
      ]
     },
     "execution_count": 5,
     "metadata": {},
     "output_type": "execute_result"
    }
   ],
   "source": [
    "churn.RowNumber.nunique()"
   ]
  },
  {
   "cell_type": "code",
   "execution_count": 6,
   "id": "e38f2dfc",
   "metadata": {},
   "outputs": [
    {
     "data": {
      "text/plain": [
       "0.0     382\n",
       "10.0    446\n",
       "6.0     881\n",
       "9.0     882\n",
       "4.0     885\n",
       "7.0     925\n",
       "5.0     927\n",
       "3.0     928\n",
       "8.0     933\n",
       "2.0     950\n",
       "1.0     952\n",
       "Name: Tenure, dtype: int64"
      ]
     },
     "metadata": {},
     "output_type": "display_data"
    },
    {
     "data": {
      "text/plain": [
       "5.0"
      ]
     },
     "execution_count": 6,
     "metadata": {},
     "output_type": "execute_result"
    }
   ],
   "source": [
    "display(churn.Tenure.value_counts().sort_values())\n",
    "churn.Tenure.median()"
   ]
  },
  {
   "cell_type": "code",
   "execution_count": 7,
   "id": "34f1c2a8",
   "metadata": {},
   "outputs": [
    {
     "name": "stdout",
     "output_type": "stream",
     "text": [
      "909\n",
      "10000\n"
     ]
    }
   ],
   "source": [
    "print(f'{churn[churn.Tenure.isna()].CustomerId.nunique()}')\n",
    "print(f'{churn.CustomerId.nunique()}')"
   ]
  },
  {
   "cell_type": "markdown",
   "id": "f52efa94",
   "metadata": {},
   "source": [
    "9% of customers have an unknown `Tenure`. Median value can be filled for them."
   ]
  },
  {
   "cell_type": "code",
   "execution_count": 8,
   "id": "d61a9236",
   "metadata": {},
   "outputs": [],
   "source": [
    "churn.Tenure = churn.Tenure.fillna(5)"
   ]
  },
  {
   "cell_type": "code",
   "execution_count": 9,
   "id": "1cf1b78a",
   "metadata": {},
   "outputs": [
    {
     "name": "stdout",
     "output_type": "stream",
     "text": [
      "<class 'pandas.core.frame.DataFrame'>\n",
      "RangeIndex: 10000 entries, 0 to 9999\n",
      "Data columns (total 14 columns):\n",
      " #   Column           Non-Null Count  Dtype  \n",
      "---  ------           --------------  -----  \n",
      " 0   RowNumber        10000 non-null  int64  \n",
      " 1   CustomerId       10000 non-null  int64  \n",
      " 2   Surname          10000 non-null  string \n",
      " 3   CreditScore      10000 non-null  int64  \n",
      " 4   Geography        10000 non-null  object \n",
      " 5   Gender           10000 non-null  object \n",
      " 6   Age              10000 non-null  int64  \n",
      " 7   Tenure           10000 non-null  int64  \n",
      " 8   Balance          10000 non-null  float64\n",
      " 9   NumOfProducts    10000 non-null  int64  \n",
      " 10  HasCrCard        10000 non-null  int64  \n",
      " 11  IsActiveMember   10000 non-null  int64  \n",
      " 12  EstimatedSalary  10000 non-null  float64\n",
      " 13  Exited           10000 non-null  bool   \n",
      "dtypes: bool(1), float64(2), int64(8), object(2), string(1)\n",
      "memory usage: 1.0+ MB\n"
     ]
    }
   ],
   "source": [
    "churn = churn.astype({'Surname': 'string','Tenure': 'int64', 'Exited': bool}) # Tenure is all ints anyway\n",
    "churn.info()"
   ]
  },
  {
   "cell_type": "code",
   "execution_count": 10,
   "id": "0048ff9c",
   "metadata": {},
   "outputs": [
    {
     "data": {
      "text/plain": [
       "0"
      ]
     },
     "execution_count": 10,
     "metadata": {},
     "output_type": "execute_result"
    }
   ],
   "source": [
    "churn.duplicated().sum()"
   ]
  },
  {
   "cell_type": "code",
   "execution_count": 11,
   "id": "6d02194c",
   "metadata": {},
   "outputs": [],
   "source": [
    "churn = churn.drop(columns=['RowNumber','CustomerId','Surname']) # don't add any information"
   ]
  },
  {
   "cell_type": "markdown",
   "id": "ffde3a98",
   "metadata": {},
   "source": [
    "Data is now pre-processed \"classical way\" - The problem faced is categorical hence OHE/label encoding and scaling shall be applied as well, for logistic and tree approaches respectively. After models are established, class imbalanced well be tackled using up and down-sampling and threshold adjusting."
   ]
  },
  {
   "cell_type": "markdown",
   "id": "29d264a8",
   "metadata": {},
   "source": [
    "# Model Training - Disregarding Class Imbalance <a id=\"mtdci\"></a>"
   ]
  },
  {
   "cell_type": "markdown",
   "id": "e3ec480e",
   "metadata": {},
   "source": [
    "## Categorising `churn`'s columns <a id=\"cgcscs\"></a>"
   ]
  },
  {
   "cell_type": "code",
   "execution_count": 12,
   "id": "e0019005",
   "metadata": {},
   "outputs": [
    {
     "name": "stdout",
     "output_type": "stream",
     "text": [
      "['CreditScore', 'Age', 'Tenure', 'Balance', 'NumOfProducts', 'EstimatedSalary']\n",
      "['Geography', 'Gender', 'HasCrCard', 'IsActiveMember']\n"
     ]
    }
   ],
   "source": [
    "numerics = ['int16', 'int32', 'int64', 'float16', 'float32', 'float64']\n",
    "newdf = churn.select_dtypes(include=numerics)\n",
    "churn_numeric = list(newdf.columns)\n",
    "tmp = ['HasCrCard', 'IsActiveMember']\n",
    "churn_numeric = [e for e in churn_numeric if e not in tmp]\n",
    "print(churn_numeric)\n",
    "churn_cat = ['Geography','Gender','HasCrCard','IsActiveMember']\n",
    "print(churn_cat)"
   ]
  },
  {
   "cell_type": "markdown",
   "id": "6cc2e6af",
   "metadata": {},
   "source": [
    "## Tree Approach <a id=\"trap\"></a>"
   ]
  },
  {
   "cell_type": "markdown",
   "id": "047a16b2",
   "metadata": {},
   "source": [
    "### Label Encoding <a id=\"labenc\"></a>"
   ]
  },
  {
   "cell_type": "code",
   "execution_count": 13,
   "id": "b0e13ded",
   "metadata": {},
   "outputs": [
    {
     "name": "stdout",
     "output_type": "stream",
     "text": [
      "Best n_estimators value - 7. F1 score - 0.5770862800565771\n",
      "Best max_depth value - 22. F1 score - 0.5975103734439833\n",
      "\n",
      "Test set F1 score - 0.5007278020378457\n"
     ]
    }
   ],
   "source": [
    "encoder = OrdinalEncoder()\n",
    "\n",
    "d = pd.DataFrame()\n",
    "d[churn_cat] = pd.DataFrame(encoder.fit_transform(churn[churn_cat]), columns=churn[churn_cat].columns)\n",
    "d[churn_numeric] = churn[churn_numeric]\n",
    "d = d[churn.drop('Exited', axis=1).columns]\n",
    "\n",
    "target = churn['Exited']\n",
    "features = d\n",
    "\n",
    "features_train, features_valid, target_train, target_valid = train_test_split\\\n",
    "(features, target, test_size=0.4, random_state=12345)\n",
    "features_valid, features_test, target_valid, target_test = train_test_split\\\n",
    "(features_valid, target_valid, test_size=0.5, random_state=12345)\n",
    "\n",
    "scaler = StandardScaler()\n",
    "scaler.fit(features_train[churn_numeric])\n",
    "features_train[churn_numeric] = scaler.transform(features_train[churn_numeric])\n",
    "features_valid[churn_numeric] = scaler.transform(features_valid[churn_numeric])\n",
    "features_test[churn_numeric] = scaler.transform(features_test[churn_numeric])\n",
    "\n",
    "ci, tmp = 0,0\n",
    "for i in range(1,30):\n",
    "    model = RandomForestClassifier(random_state=12345, n_estimators = i)\n",
    "    model.fit(features_train,target_train)\n",
    "    predicted_valid = model.predict(features_valid)\n",
    "    if f1_score(target_valid,predicted_valid) > tmp:\n",
    "        tmp, ci = f1_score(target_valid,predicted_valid), i\n",
    "print(f'Best n_estimators value - {ci}. F1 score - {tmp}')\n",
    "\n",
    "ci, tmp = 0,0\n",
    "for i in range(1,30):\n",
    "    model = RandomForestClassifier(random_state=12345, n_estimators = 7, max_depth = i)\n",
    "    model.fit(features_train,target_train)\n",
    "    predicted_valid = model.predict(features_valid)\n",
    "    if f1_score(target_valid,predicted_valid) > tmp:\n",
    "        tmp, ci = f1_score(target_valid,predicted_valid), i\n",
    "print(f'Best max_depth value - {ci}. F1 score - {tmp}')\n",
    "\n",
    "model = RandomForestClassifier(random_state=12345, n_estimators = 7, max_depth = 22)\n",
    "model.fit(features_train,target_train)\n",
    "predicted_test = model.predict(features_test)\n",
    "print()\n",
    "print('Test set F1 score -',f1_score(target_test,predicted_test))"
   ]
  },
  {
   "cell_type": "code",
   "execution_count": 14,
   "id": "c53863fc",
   "metadata": {},
   "outputs": [
    {
     "data": {
      "image/png": "[encoded data removed]",
      "text/plain": [
       "<Figure size 432x288 with 1 Axes>"
      ]
     },
     "metadata": {
      "needs_background": "light"
     },
     "output_type": "display_data"
    },
    {
     "name": "stdout",
     "output_type": "stream",
     "text": [
      "AUC-ROC score (validation set):  0.8082192609439931\n",
      "AUC-ROC score:  0.7892578151351206\n"
     ]
    }
   ],
   "source": [
    "probabilities_test = model.predict_proba(features_test)\n",
    "probabilities_one_test = probabilities_test[:, 1]\n",
    "fpr, tpr, thresholds = roc_curve(target_test, probabilities_one_test)\n",
    "\n",
    "plt.figure()\n",
    "\n",
    "# ROC curve for random model (looks like a straight line)\n",
    "plt.plot([0, 1], [0, 1], linestyle='--')\n",
    "\n",
    "plt.plot(fpr, tpr)\n",
    "plt.xlim([0.0, 1.0])\n",
    "plt.ylim([0.0, 1.0])\n",
    "plt.xlabel('False Positive Rate')\n",
    "plt.ylabel('True Positive Rate')\n",
    "plt.title('Label Encoded ROC curve - RF pre-balancing')\n",
    "plt.show()\n",
    "\n",
    "probabilities_valid = model.predict_proba(features_valid)\n",
    "probabilities_one_valid = probabilities_valid[:, 1]\n",
    "auc_roc = roc_auc_score(target_valid,probabilities_one_valid)\n",
    "print('AUC-ROC score (validation set): ',auc_roc)\n",
    "\n",
    "auc_roc = roc_auc_score(target_test,probabilities_one_test)\n",
    "print('AUC-ROC score: ',auc_roc)"
   ]
  },
  {
   "cell_type": "markdown",
   "id": "b1798867",
   "metadata": {},
   "source": [
    "### OHE <a id=\"ohe\"></a>"
   ]
  },
  {
   "cell_type": "code",
   "execution_count": 15,
   "id": "9799483a",
   "metadata": {},
   "outputs": [
    {
     "name": "stdout",
     "output_type": "stream",
     "text": [
      "Best n_estimators value - 23. F1 score - 0.5884057971014492\n",
      "Best max_depth value - 25. F1 score - 0.5884057971014492\n",
      "\n",
      "Test set F1 score - 0.5289747399702823\n"
     ]
    }
   ],
   "source": [
    "data_ohe = pd.get_dummies(churn, drop_first=True)\n",
    "\n",
    "target = data_ohe['Exited']\n",
    "features = data_ohe.drop('Exited', axis=1)\n",
    "\n",
    "features_train, features_valid, target_train, target_valid = train_test_split\\\n",
    "(features, target, test_size=0.4, random_state=12345)\n",
    "features_valid, features_test, target_valid, target_test = train_test_split\\\n",
    "(features_valid, target_valid, test_size=0.5, random_state=12345)\n",
    "\n",
    "scaler = StandardScaler()\n",
    "scaler.fit(features_train[churn_numeric])\n",
    "features_train[churn_numeric] = scaler.transform(features_train[churn_numeric])\n",
    "features_valid[churn_numeric] = scaler.transform(features_valid[churn_numeric])\n",
    "features_test[churn_numeric] = scaler.transform(features_test[churn_numeric])\n",
    "\n",
    "ci, tmp = 0,0\n",
    "for i in range(1,30):\n",
    "    model = RandomForestClassifier(random_state=12345, n_estimators = i)\n",
    "    model.fit(features_train,target_train)\n",
    "    predicted_valid = model.predict(features_valid)\n",
    "    if f1_score(target_valid,predicted_valid) > tmp:\n",
    "        tmp, ci = f1_score(target_valid,predicted_valid), i\n",
    "print(f'Best n_estimators value - {ci}. F1 score - {tmp}')\n",
    "\n",
    "ci, tmp = 0,0\n",
    "for i in range(1,30):\n",
    "    model = RandomForestClassifier(random_state=12345, n_estimators = 23, max_depth = i)\n",
    "    model.fit(features_train,target_train)\n",
    "    predicted_valid = model.predict(features_valid)\n",
    "    if f1_score(target_valid,predicted_valid) > tmp:\n",
    "        tmp, ci = f1_score(target_valid,predicted_valid), i\n",
    "print(f'Best max_depth value - {ci}. F1 score - {tmp}')\n",
    "\n",
    "model = RandomForestClassifier(random_state=12345, n_estimators = 23, max_depth = 25)\n",
    "model.fit(features_train,target_train)\n",
    "predicted_test = model.predict(features_test)\n",
    "print()\n",
    "print('Test set F1 score -',f1_score(target_test,predicted_test))"
   ]
  },
  {
   "cell_type": "code",
   "execution_count": 16,
   "id": "b1f69c62",
   "metadata": {},
   "outputs": [
    {
     "data": {
      "image/png": "[encoded data removed]",
      "text/plain": [
       "<Figure size 432x288 with 1 Axes>"
      ]
     },
     "metadata": {
      "needs_background": "light"
     },
     "output_type": "display_data"
    },
    {
     "name": "stdout",
     "output_type": "stream",
     "text": [
      "AUC-ROC score (validation set):  0.8332647790030184\n",
      "AUC-ROC score:  0.841442665023663\n"
     ]
    }
   ],
   "source": [
    "probabilities_test = model.predict_proba(features_test)\n",
    "probabilities_one_test = probabilities_test[:, 1]\n",
    "fpr, tpr, thresholds = roc_curve(target_test, probabilities_one_test)\n",
    "\n",
    "plt.figure()\n",
    "\n",
    "# ROC curve for random model (looks like a straight line)\n",
    "plt.plot([0, 1], [0, 1], linestyle='--')\n",
    "\n",
    "plt.plot(fpr, tpr)\n",
    "plt.xlim([0.0, 1.0])\n",
    "plt.ylim([0.0, 1.0])\n",
    "plt.xlabel('False Positive Rate')\n",
    "plt.ylabel('True Positive Rate')\n",
    "plt.title('OHE encoded ROC curve - RF pre-balancing')\n",
    "plt.show()\n",
    "\n",
    "probabilities_valid = model.predict_proba(features_valid)\n",
    "probabilities_one_valid = probabilities_valid[:, 1]\n",
    "auc_roc = roc_auc_score(target_valid,probabilities_one_valid)\n",
    "print('AUC-ROC score (validation set): ',auc_roc)\n",
    "\n",
    "auc_roc = roc_auc_score(target_test,probabilities_one_test)\n",
    "print('AUC-ROC score: ',auc_roc)"
   ]
  },
  {
   "cell_type": "markdown",
   "id": "e0aaef48",
   "metadata": {},
   "source": [
    "For validation set, Label Encoding had the better F1 score, while for the test set - OHE had the better F1 score. As for AUC-ROC score, OHE had better results on both sets. OHE's result for the test set was even better than the result for the validation set. It seems in this case, Label Encoding is more over-fitting than OHE, so the latter is the preferable method."
   ]
  },
  {
   "cell_type": "markdown",
   "id": "d53d9281",
   "metadata": {},
   "source": [
    "## Logistic Regression Approach <a id=\"lograp\"></a>"
   ]
  },
  {
   "cell_type": "code",
   "execution_count": 17,
   "id": "9b4bbf30",
   "metadata": {},
   "outputs": [
    {
     "name": "stdout",
     "output_type": "stream",
     "text": [
      "Test set F1 score - 0.27478260869565213\n"
     ]
    }
   ],
   "source": [
    "model = LogisticRegression(solver='liblinear', random_state=12345)\n",
    "model.fit(features_train,target_train)\n",
    "\n",
    "predicted_test = model.predict(features_test)\n",
    "print('Test set F1 score -',f1_score(target_test,predicted_test))"
   ]
  },
  {
   "cell_type": "code",
   "execution_count": 18,
   "id": "e3da20a4",
   "metadata": {},
   "outputs": [
    {
     "data": {
      "image/png": "[encoded data removed]",
      "text/plain": [
       "<Figure size 432x288 with 1 Axes>"
      ]
     },
     "metadata": {
      "needs_background": "light"
     },
     "output_type": "display_data"
    },
    {
     "name": "stdout",
     "output_type": "stream",
     "text": [
      "AUC-ROC score:  0.7386410142248726\n"
     ]
    }
   ],
   "source": [
    "probabilities_test = model.predict_proba(features_test)\n",
    "probabilities_one_test = probabilities_test[:, 1]\n",
    "fpr, tpr, thresholds = roc_curve(target_test, probabilities_one_test)\n",
    "\n",
    "plt.figure()\n",
    "\n",
    "# ROC curve for random model (looks like a straight line)\n",
    "plt.plot([0, 1], [0, 1], linestyle='--')\n",
    "\n",
    "plt.plot(fpr, tpr)\n",
    "plt.xlim([0.0, 1.0])\n",
    "plt.ylim([0.0, 1.0])\n",
    "plt.xlabel('False Positive Rate')\n",
    "plt.ylabel('True Positive Rate')\n",
    "plt.title('ROC curve - Logistic Regression pre-balancing')\n",
    "plt.show()\n",
    "\n",
    "auc_roc = roc_auc_score(target_test,probabilities_one_test)\n",
    "print('AUC-ROC score: ',auc_roc)"
   ]
  },
  {
   "cell_type": "markdown",
   "id": "9c25493a",
   "metadata": {},
   "source": [
    "## Class Balance Analysis <a id=\"claba\"></a>"
   ]
  },
  {
   "cell_type": "code",
   "execution_count": 19,
   "id": "9ab4f63b",
   "metadata": {},
   "outputs": [
    {
     "name": "stdout",
     "output_type": "stream",
     "text": [
      "False    0.7885\n",
      "True     0.2115\n",
      "Name: Exited, dtype: float64\n"
     ]
    },
    {
     "data": {
      "image/png": "[encoded data removed]",
      "text/plain": [
       "<Figure size 432x288 with 1 Axes>"
      ]
     },
     "metadata": {
      "needs_background": "light"
     },
     "output_type": "display_data"
    }
   ],
   "source": [
    "class_frequency = target_test.value_counts(normalize=True)\n",
    "print(class_frequency)\n",
    "class_frequency.plot(kind='bar')\n",
    "plt.title('Class Frequency')\n",
    "plt.ylabel('Frequency')\n",
    "plt.show()"
   ]
  },
  {
   "cell_type": "markdown",
   "id": "9bd66048",
   "metadata": {},
   "source": [
    "Positive answers make 21% of the data. So no easy \"guess all 1\" method for the model. It has to get results by really predicting them well."
   ]
  },
  {
   "cell_type": "markdown",
   "id": "34417a61",
   "metadata": {},
   "source": [
    "## Initial Training Summation <a id=\"intsum\"></a>"
   ]
  },
  {
   "cell_type": "markdown",
   "id": "f09752a3",
   "metadata": {},
   "source": [
    "- Tree approach gives much better initial F1 score to work with, and a better AUC-ROC score.\n",
    "- Class balance analysis suggests downsampling might be useful.\n",
    "- In both metrics, RandomForest has the better score - 92% advantage in F1 score, and 14% advantage in AUC-ROC score."
   ]
  },
  {
   "cell_type": "markdown",
   "id": "3ff02451",
   "metadata": {},
   "source": [
    "# Fixing Class Imbalance <a id=\"fxclimb\"></a>"
   ]
  },
  {
   "cell_type": "code",
   "execution_count": 20,
   "id": "e7a7b03a",
   "metadata": {},
   "outputs": [],
   "source": [
    "def upsample(features, target, repeat):\n",
    "    features_zeros = features[target == 0]\n",
    "    features_ones = features[target == 1]\n",
    "    target_zeros = target[target == 0]\n",
    "    target_ones = target[target == 1]\n",
    "\n",
    "    features_upsampled = pd.concat([features_zeros] + [features_ones] * repeat)\n",
    "    target_upsampled = pd.concat([target_zeros] + [target_ones] * repeat)\n",
    "\n",
    "    features_upsampled, target_upsampled = shuffle(\n",
    "        features_upsampled, target_upsampled, random_state=12345)\n",
    "\n",
    "    return features_upsampled, target_upsampled\n",
    "\n",
    "def downsample(features, target, fraction):\n",
    "    features_zeros = features[target == 0]\n",
    "    features_ones = features[target == 1]\n",
    "    target_zeros = target[target == 0]\n",
    "    target_ones = target[target == 1]\n",
    "\n",
    "    features_downsampled = pd.concat(\n",
    "        [features_zeros.sample(frac=fraction, random_state=12345)]\n",
    "        + [features_ones])\n",
    "    target_downsampled = pd.concat(\n",
    "        [target_zeros.sample(frac=fraction, random_state=12345)]\n",
    "        + [target_ones])\n",
    "\n",
    "    features_downsampled, target_downsampled = shuffle(\n",
    "        features_downsampled, target_downsampled, random_state=12345)\n",
    "\n",
    "    return features_downsampled, target_downsampled"
   ]
  },
  {
   "cell_type": "markdown",
   "id": "380e4d9c",
   "metadata": {},
   "source": [
    "## Tree Approach <a id=\"trapp\"></a>"
   ]
  },
  {
   "cell_type": "code",
   "execution_count": 21,
   "id": "9d7366ca",
   "metadata": {},
   "outputs": [
    {
     "name": "stdout",
     "output_type": "stream",
     "text": [
      "Best repeat - 4. F1 score - 0.5997425997425997\n"
     ]
    }
   ],
   "source": [
    "ci,tmp = 0,0\n",
    "for i in range(2,15):\n",
    "    features_upsampled, target_upsampled = upsample(\n",
    "        features_train, target_train, i)\n",
    "\n",
    "    model = RandomForestClassifier(random_state=12345, n_estimators = 23, max_depth = 25)\n",
    "    model.fit(features_upsampled, target_upsampled)\n",
    "    predicted_valid = model.predict(features_valid)\n",
    "    if f1_score(target_valid, predicted_valid) > tmp:\n",
    "        tmp,ci = f1_score(target_valid, predicted_valid),i\n",
    "print(f'Best repeat - {ci}. F1 score - {tmp}')"
   ]
  },
  {
   "cell_type": "code",
   "execution_count": 22,
   "id": "7afb0b99",
   "metadata": {},
   "outputs": [
    {
     "name": "stdout",
     "output_type": "stream",
     "text": [
      "Best fraction - 0.61. F1 score - 0.6226175349428208\n"
     ]
    }
   ],
   "source": [
    "ci,tmp = 0,0\n",
    "for i in range(450, 651, 4):\n",
    "    features_downsampled, target_downsampled = downsample(\n",
    "        features_train, target_train, i / 1000\n",
    "    )\n",
    "\n",
    "    model = RandomForestClassifier(random_state=12345, n_estimators = 23, max_depth = 25)\n",
    "    model.fit(features_downsampled, target_downsampled)\n",
    "    predicted_valid = model.predict(features_valid)\n",
    "    if f1_score(target_valid, predicted_valid) > tmp:\n",
    "        tmp, ci = f1_score(target_valid, predicted_valid),i\n",
    "        ci = i\n",
    "\n",
    "print(f'Best fraction - {ci / 1000}. F1 score - {tmp}')   "
   ]
  },
  {
   "cell_type": "code",
   "execution_count": 23,
   "id": "bc5cca90",
   "metadata": {},
   "outputs": [
    {
     "name": "stdout",
     "output_type": "stream",
     "text": [
      "F1: 0.6013513513513512\n"
     ]
    }
   ],
   "source": [
    "# checking up and down sampling together\n",
    "\n",
    "features_sampled, target_sampled = upsample(\n",
    "        features_train, target_train, 4\n",
    "    )\n",
    "\n",
    "features_sampled, target_sampled = downsample(\n",
    "        features_sampled, target_sampled, 0.61\n",
    "    )\n",
    "\n",
    "\n",
    "model = RandomForestClassifier(random_state=12345, n_estimators = 23, max_depth = 25)\n",
    "model.fit(features_sampled, target_sampled)\n",
    "predicted_valid = model.predict(features_valid)\n",
    "print('F1:', f1_score(target_valid, predicted_valid))"
   ]
  },
  {
   "cell_type": "markdown",
   "id": "94ad3c8c",
   "metadata": {},
   "source": [
    "Score is lower compared to result obtained using downsampling only. Therefore downsampling will be the sampling method chosen, with `frac` set to 0.61."
   ]
  },
  {
   "cell_type": "code",
   "execution_count": 24,
   "id": "6ad99ebc",
   "metadata": {},
   "outputs": [
    {
     "name": "stdout",
     "output_type": "stream",
     "text": [
      "Best threshold - 0.50. F1 score - 0.6226175349428208\n"
     ]
    }
   ],
   "source": [
    "features_sampled, target_sampled = downsample(\n",
    "        features_train, target_train, 0.61)\n",
    "\n",
    "model = RandomForestClassifier(random_state=12345, n_estimators = 23, max_depth = 25)\n",
    "model.fit(features_sampled,target_sampled)\n",
    "\n",
    "probabilities_valid = model.predict_proba(features_valid)\n",
    "probabilities_one_valid = probabilities_valid[:, 1]\n",
    "\n",
    "ci,tmp = 0,0\n",
    "for threshold in np.arange(0.3, 0.7, 0.05):\n",
    "    predicted_valid = probabilities_one_valid > threshold \n",
    "    f1 = f1_score(target_valid,predicted_valid)\n",
    "    if f1 > tmp:\n",
    "        tmp, ci = f1_score(target_valid,predicted_valid), threshold\n",
    "print(f'Best threshold - {ci:.2f}. F1 score - {tmp}')   "
   ]
  },
  {
   "cell_type": "markdown",
   "id": "4aacab49",
   "metadata": {},
   "source": [
    "Threshold adjustment doesn't further improve F1 score, as 0.5 is threshold's default value"
   ]
  },
  {
   "cell_type": "code",
   "execution_count": 25,
   "id": "1b8d6acd",
   "metadata": {},
   "outputs": [
    {
     "name": "stdout",
     "output_type": "stream",
     "text": [
      "Test set F1 score - 0.6025641025641025\n"
     ]
    }
   ],
   "source": [
    "predicted_test = model.predict(features_test)\n",
    "print('Test set F1 score -',f1_score(target_test,predicted_test))"
   ]
  },
  {
   "cell_type": "code",
   "execution_count": 26,
   "id": "1b48a2bc",
   "metadata": {},
   "outputs": [
    {
     "data": {
      "image/png": "[encoded data removed]",
      "text/plain": [
       "<Figure size 432x288 with 1 Axes>"
      ]
     },
     "metadata": {
      "needs_background": "light"
     },
     "output_type": "display_data"
    },
    {
     "name": "stdout",
     "output_type": "stream",
     "text": [
      "AUC-ROC score:  0.8329832956311998\n"
     ]
    }
   ],
   "source": [
    "probabilities_test = model.predict_proba(features_test)\n",
    "probabilities_one_test = probabilities_test[:, 1]\n",
    "fpr, tpr, thresholds = roc_curve(target_test, probabilities_one_test)\n",
    "\n",
    "plt.figure()\n",
    "\n",
    "# ROC curve for random model (looks like a straight line)\n",
    "plt.plot([0, 1], [0, 1], linestyle='--')\n",
    "\n",
    "plt.plot(fpr, tpr)\n",
    "plt.xlim([0.0, 1.0])\n",
    "plt.ylim([0.0, 1.0])\n",
    "plt.xlabel('False Positive Rate')\n",
    "plt.ylabel('True Positive Rate')\n",
    "plt.title('ROC curve - RF after balancing')\n",
    "plt.show()\n",
    "\n",
    "auc_roc = roc_auc_score(target_test,probabilities_one_test)\n",
    "print('AUC-ROC score: ',auc_roc)"
   ]
  },
  {
   "cell_type": "markdown",
   "id": "f2bfa056",
   "metadata": {},
   "source": [
    "Interestingly, downsampling raised the F1 score from 0.52 to 0.6, but lowered AUC-ROC score from 0.841 to 0.833"
   ]
  },
  {
   "cell_type": "markdown",
   "id": "49129242",
   "metadata": {},
   "source": [
    "## Logistic Regression Approach <a id=\"lograpp\"></a>"
   ]
  },
  {
   "cell_type": "code",
   "execution_count": 27,
   "id": "68d0f391",
   "metadata": {},
   "outputs": [
    {
     "name": "stdout",
     "output_type": "stream",
     "text": [
      "Ideal repeat - 3. F1 score - 0.5\n"
     ]
    }
   ],
   "source": [
    "tmp, ci = 0,0\n",
    "for i in range(2,15):\n",
    "    features_upsampled, target_upsampled = upsample(\n",
    "        features_train, target_train, i\n",
    "    )\n",
    "\n",
    "    model = LogisticRegression(solver='liblinear',random_state=12345)\n",
    "    model.fit(features_upsampled, target_upsampled)\n",
    "    predicted_valid = model.predict(features_valid)\n",
    "    if f1_score(target_valid, predicted_valid) > tmp:\n",
    "        tmp, ci = f1_score(target_valid,predicted_valid), i\n",
    "print(f'Ideal repeat - {ci}. F1 score - {tmp}')   "
   ]
  },
  {
   "cell_type": "code",
   "execution_count": 28,
   "id": "523ba41f",
   "metadata": {},
   "outputs": [
    {
     "name": "stdout",
     "output_type": "stream",
     "text": [
      "Ideal fraction - 0.4. F1 score - 0.504875406283857\n"
     ]
    }
   ],
   "source": [
    "for i in range(20, 80, 5):\n",
    "    features_downsampled, target_downsampled = downsample(\n",
    "        features_train, target_train, i / 100\n",
    "    )\n",
    "\n",
    "    model = LogisticRegression(solver='liblinear',random_state=12345)\n",
    "    model.fit(features_downsampled, target_downsampled)\n",
    "    predicted_valid = model.predict(features_valid)\n",
    "    if f1_score(target_valid, predicted_valid) > tmp:\n",
    "        tmp, ci = f1_score(target_valid,predicted_valid), i\n",
    "print(f'Ideal fraction - {ci/100}. F1 score - {tmp}')   "
   ]
  },
  {
   "cell_type": "code",
   "execution_count": 29,
   "id": "ac8d24e2",
   "metadata": {},
   "outputs": [
    {
     "name": "stdout",
     "output_type": "stream",
     "text": [
      "F1: 0.4482972136222911\n"
     ]
    }
   ],
   "source": [
    "features_sampled, target_sampled = upsample(\n",
    "        features_train, target_train, 3\n",
    "    )\n",
    "\n",
    "features_sampled, target_sampled = downsample(\n",
    "        features_sampled, target_sampled, 0.4\n",
    "    )\n",
    "\n",
    "\n",
    "model = LogisticRegression(solver='liblinear',random_state=12345)\n",
    "model.fit(features_sampled, target_sampled)\n",
    "predicted_valid = model.predict(features_valid)\n",
    "print('F1:', f1_score(target_valid, predicted_valid))"
   ]
  },
  {
   "cell_type": "markdown",
   "id": "5f5e939a",
   "metadata": {},
   "source": [
    "Score is low compared with scores obtained using up/down-sampling seperately. Down sampling had the better result, 0.504 over 0.5, so among the two it'll be the sampling method chosen, with `frac` set to 0.4. Changing the order above between downsampling and upsampling made a negligble difference in F1 score."
   ]
  },
  {
   "cell_type": "code",
   "execution_count": 30,
   "id": "0f489f0f",
   "metadata": {},
   "outputs": [
    {
     "name": "stdout",
     "output_type": "stream",
     "text": [
      "Ideal threshold - 0.5. F1 score - 0.504875406283857\n"
     ]
    }
   ],
   "source": [
    "features_sampled, target_sampled = downsample(\n",
    "        features_train, target_train, 0.4)\n",
    "\n",
    "model = LogisticRegression(solver='liblinear', random_state=12345)\n",
    "model.fit(features_sampled,target_sampled)\n",
    "\n",
    "probabilities_valid = model.predict_proba(features_valid)\n",
    "probabilities_one_valid = probabilities_valid[:, 1]\n",
    "\n",
    "tmp, ci = 0,0\n",
    "for threshold in np.arange(0, 0.8, 0.1):\n",
    "    predicted_valid = probabilities_one_valid > threshold \n",
    "    f1 = f1_score(target_valid,predicted_valid)\n",
    "    if f1_score(target_valid, predicted_valid) > tmp:\n",
    "        tmp, ci = f1_score(target_valid,predicted_valid), threshold\n",
    "print(f'Ideal threshold - {ci}. F1 score - {tmp}')"
   ]
  },
  {
   "cell_type": "markdown",
   "id": "2ffd39b3",
   "metadata": {},
   "source": [
    "Again, threshold adjusting didn't improve F1 score"
   ]
  },
  {
   "cell_type": "code",
   "execution_count": 31,
   "id": "ec4daea5",
   "metadata": {},
   "outputs": [
    {
     "name": "stdout",
     "output_type": "stream",
     "text": [
      "Test set F1 score - 0.4473975636766334\n"
     ]
    }
   ],
   "source": [
    "predicted_test = model.predict(features_test)\n",
    "print('Test set F1 score -',f1_score(target_test,predicted_test))"
   ]
  },
  {
   "cell_type": "code",
   "execution_count": 32,
   "id": "2fbf3865",
   "metadata": {},
   "outputs": [
    {
     "data": {
      "image/png": "[encoded data removed]",
      "text/plain": [
       "<Figure size 432x288 with 1 Axes>"
      ]
     },
     "metadata": {
      "needs_background": "light"
     },
     "output_type": "display_data"
    },
    {
     "name": "stdout",
     "output_type": "stream",
     "text": [
      "AUC-ROC score:  0.7422328357850965\n"
     ]
    }
   ],
   "source": [
    "probabilities_test = model.predict_proba(features_test)\n",
    "probabilities_one_test = probabilities_test[:, 1]\n",
    "fpr, tpr, thresholds = roc_curve(target_test, probabilities_one_test)\n",
    "\n",
    "plt.figure()\n",
    "\n",
    "# ROC curve for random model (looks like a straight line)\n",
    "plt.plot([0, 1], [0, 1], linestyle='--')\n",
    "\n",
    "plt.plot(fpr, tpr)\n",
    "plt.xlim([0.0, 1.0])\n",
    "plt.ylim([0.0, 1.0])\n",
    "plt.xlabel('False Positive Rate')\n",
    "plt.ylabel('True Positive Rate')\n",
    "plt.title('ROC curve - Balanced Logistic Regression')\n",
    "plt.show()\n",
    "\n",
    "auc_roc = roc_auc_score(target_test,probabilities_one_test)\n",
    "print('AUC-ROC score: ',auc_roc)"
   ]
  },
  {
   "cell_type": "markdown",
   "id": "9cf3cde8",
   "metadata": {},
   "source": [
    "## Imbalance Fix Summation <a id=\"imbfsu\"></a>"
   ]
  },
  {
   "cell_type": "markdown",
   "id": "3707d914",
   "metadata": {},
   "source": [
    "Tree approach F1 and AUC-ROC scores changed by 14% and -1% respectively, and Logistic Regression F1 and AUC-ROC scores improved by 63% and 0.5% respectively, all solely by downsampling. Overall, Tree approach leads to a 35% better F1 score, and to a 12% better AUC-ROC score.\n",
    "\n",
    "No explanation for the descent in Random-Forest's AUC-ROC score. It might be related to a relatively drastic downsampling (61%) and chance - maybe all samples taken out were FP (or TN) so it made a noted change in the metric."
   ]
  },
  {
   "cell_type": "markdown",
   "id": "b74d0736",
   "metadata": {},
   "source": [
    "# Precision-Recall Curves <a id=\"fintest\"></a>"
   ]
  },
  {
   "cell_type": "code",
   "execution_count": 33,
   "id": "4b4523d9",
   "metadata": {},
   "outputs": [
    {
     "data": {
      "image/png": "[encoded data removed]",
      "text/plain": [
       "<Figure size 432x432 with 1 Axes>"
      ]
     },
     "metadata": {
      "needs_background": "light"
     },
     "output_type": "display_data"
    },
    {
     "data": {
      "image/png": "[encoded data removed]",
      "text/plain": [
       "<Figure size 432x432 with 1 Axes>"
      ]
     },
     "metadata": {
      "needs_background": "light"
     },
     "output_type": "display_data"
    }
   ],
   "source": [
    "features_sampled, target_sampled = downsample(\n",
    "        features_train, target_train, 0.61)\n",
    "\n",
    "rf = RandomForestClassifier(random_state=12345, n_estimators = 23, max_depth = 25)\n",
    "rf.fit(features_sampled,target_sampled)\n",
    "\n",
    "probabilities_test = rf.predict_proba(features_test)\n",
    "probabilities_one_test = probabilities_test[:, 1]\n",
    "\n",
    "precision, recall, thresholds = precision_recall_curve(\n",
    "    target_test, probabilities_one_test\n",
    ")\n",
    "\n",
    "plt.figure(figsize=(6, 6))\n",
    "plt.step(recall, precision, where='post')\n",
    "plt.xlabel('Recall')\n",
    "plt.ylabel('Precision')\n",
    "plt.ylim([0.0, 1.05])\n",
    "plt.xlim([0.0, 1.0])\n",
    "plt.title('Precision-Recall Curve - Random Forest')\n",
    "plt.show()\n",
    "\n",
    "features_sampled, target_sampled = downsample(\n",
    "        features_train, target_train, 0.4)\n",
    "\n",
    "lgr = LogisticRegression(solver='liblinear', random_state=12345)\n",
    "lgr.fit(features_sampled,target_sampled)\n",
    "\n",
    "probabilities_test = lgr.predict_proba(features_test)\n",
    "probabilities_one_test = probabilities_test[:, 1]\n",
    "\n",
    "precision, recall, thresholds = precision_recall_curve(\n",
    "    target_test, probabilities_one_test\n",
    ")\n",
    "\n",
    "plt.figure(figsize=(6, 6))\n",
    "plt.step(recall, precision, where='post')\n",
    "plt.xlabel('Recall')\n",
    "plt.ylabel('Precision')\n",
    "plt.ylim([0.0, 1.05])\n",
    "plt.xlim([0.0, 1.0])\n",
    "plt.title('Precision-Recall Curve- Logistic Regression')\n",
    "plt.show()"
   ]
  },
  {
   "cell_type": "markdown",
   "id": "34b729e2",
   "metadata": {},
   "source": [
    "Logistic Regression precision never pass 0.7, while Random Forest precision starts high and gradually drop as racall approaches 1."
   ]
  },
  {
   "cell_type": "markdown",
   "id": "dac9e2b0",
   "metadata": {},
   "source": [
    "# Conclusion <a id=\"conc\"></a>"
   ]
  },
  {
   "cell_type": "markdown",
   "id": "c1739144",
   "metadata": {},
   "source": [
    "- A decent model for predicting customer churn was created, with a F1 score of 0.60 and AUC-ROC of 0.83.\n",
    "- Tree-based algorithm turned out to be the better choice for this dataset, over logistic regression.\n",
    "- OHE turned out to be the better method over Label Encoding for relatively small datasets, or at least to this dataset.\n",
    "- Random Forest's AUC-ROC score dropped by 1% after balancing - still a mystery."
   ]
  }
 ],
 "metadata": {
  "ExecuteTimeLog": [
   {
    "duration": 51,
    "start_time": "2022-04-30T16:08:49.600Z"
   },
   {
    "duration": 4,
    "start_time": "2022-04-30T16:08:58.415Z"
   },
   {
    "duration": 1531,
    "start_time": "2022-04-30T16:08:58.421Z"
   },
   {
    "duration": 100,
    "start_time": "2022-04-30T16:08:59.954Z"
   },
   {
    "duration": 14,
    "start_time": "2022-04-30T16:09:00.056Z"
   },
   {
    "duration": 9,
    "start_time": "2022-04-30T16:09:00.072Z"
   },
   {
    "duration": 8,
    "start_time": "2022-04-30T16:09:00.083Z"
   },
   {
    "duration": 7,
    "start_time": "2022-04-30T16:09:00.093Z"
   },
   {
    "duration": 4,
    "start_time": "2022-04-30T16:09:00.101Z"
   },
   {
    "duration": 17,
    "start_time": "2022-04-30T16:09:00.106Z"
   },
   {
    "duration": 11,
    "start_time": "2022-04-30T16:09:00.125Z"
   },
   {
    "duration": 4,
    "start_time": "2022-04-30T16:09:00.137Z"
   },
   {
    "duration": 7,
    "start_time": "2022-04-30T16:09:00.143Z"
   },
   {
    "duration": 10,
    "start_time": "2022-04-30T16:09:00.151Z"
   },
   {
    "duration": 233,
    "start_time": "2022-04-30T16:09:00.163Z"
   },
   {
    "duration": 95,
    "start_time": "2022-04-30T16:09:00.399Z"
   },
   {
    "duration": 220,
    "start_time": "2022-04-30T16:09:00.496Z"
   },
   {
    "duration": 5,
    "start_time": "2022-04-30T16:09:00.718Z"
   },
   {
    "duration": 3431,
    "start_time": "2022-04-30T16:09:00.725Z"
   },
   {
    "duration": 4274,
    "start_time": "2022-04-30T16:09:04.158Z"
   },
   {
    "duration": 203,
    "start_time": "2022-04-30T16:09:08.433Z"
   },
   {
    "duration": 174,
    "start_time": "2022-04-30T16:09:08.638Z"
   },
   {
    "duration": 2411,
    "start_time": "2022-04-30T16:09:08.814Z"
   },
   {
    "duration": 2970,
    "start_time": "2022-04-30T16:09:11.227Z"
   },
   {
    "duration": 205,
    "start_time": "2022-04-30T16:09:14.199Z"
   },
   {
    "duration": 431,
    "start_time": "2022-04-30T16:09:14.406Z"
   },
   {
    "duration": 340,
    "start_time": "2022-04-30T16:09:14.838Z"
   },
   {
    "duration": 14,
    "start_time": "2022-04-30T16:09:15.180Z"
   },
   {
    "duration": 725,
    "start_time": "2022-04-30T16:14:35.026Z"
   },
   {
    "duration": 168,
    "start_time": "2022-04-30T16:15:12.378Z"
   },
   {
    "duration": 146,
    "start_time": "2022-04-30T16:17:11.223Z"
   },
   {
    "duration": 3273,
    "start_time": "2022-04-30T16:17:22.088Z"
   },
   {
    "duration": 207,
    "start_time": "2022-04-30T16:19:17.766Z"
   },
   {
    "duration": 70,
    "start_time": "2022-04-30T16:19:36.146Z"
   },
   {
    "duration": 3255,
    "start_time": "2022-04-30T16:20:08.830Z"
   },
   {
    "duration": 3348,
    "start_time": "2022-04-30T16:20:41.923Z"
   },
   {
    "duration": 51,
    "start_time": "2022-04-30T16:20:55.624Z"
   },
   {
    "duration": 3318,
    "start_time": "2022-04-30T16:21:03.051Z"
   },
   {
    "duration": 3270,
    "start_time": "2022-04-30T16:21:27.873Z"
   },
   {
    "duration": 4647,
    "start_time": "2022-04-30T16:23:13.462Z"
   },
   {
    "duration": 134,
    "start_time": "2022-04-30T16:24:40.791Z"
   },
   {
    "duration": 4723,
    "start_time": "2022-04-30T16:24:52.745Z"
   },
   {
    "duration": 4835,
    "start_time": "2022-04-30T16:26:08.108Z"
   },
   {
    "duration": 5071,
    "start_time": "2022-04-30T16:27:54.452Z"
   },
   {
    "duration": 4719,
    "start_time": "2022-04-30T16:30:33.740Z"
   },
   {
    "duration": 171,
    "start_time": "2022-04-30T16:36:32.402Z"
   },
   {
    "duration": 130,
    "start_time": "2022-04-30T16:38:32.563Z"
   },
   {
    "duration": 49,
    "start_time": "2022-05-01T08:45:39.059Z"
   },
   {
    "duration": 4,
    "start_time": "2022-05-01T08:46:12.862Z"
   },
   {
    "duration": 1509,
    "start_time": "2022-05-01T08:46:12.868Z"
   },
   {
    "duration": 80,
    "start_time": "2022-05-01T08:46:14.379Z"
   },
   {
    "duration": 13,
    "start_time": "2022-05-01T08:46:14.460Z"
   },
   {
    "duration": 6,
    "start_time": "2022-05-01T08:46:14.475Z"
   },
   {
    "duration": 9,
    "start_time": "2022-05-01T08:46:14.482Z"
   },
   {
    "duration": 5,
    "start_time": "2022-05-01T08:46:14.493Z"
   },
   {
    "duration": 4,
    "start_time": "2022-05-01T08:46:14.499Z"
   },
   {
    "duration": 22,
    "start_time": "2022-05-01T08:46:14.504Z"
   },
   {
    "duration": 10,
    "start_time": "2022-05-01T08:46:14.527Z"
   },
   {
    "duration": 33,
    "start_time": "2022-05-01T08:46:14.540Z"
   },
   {
    "duration": 6,
    "start_time": "2022-05-01T08:46:14.575Z"
   },
   {
    "duration": 107,
    "start_time": "2022-05-01T08:46:14.583Z"
   },
   {
    "duration": 0,
    "start_time": "2022-05-01T08:46:14.692Z"
   },
   {
    "duration": 0,
    "start_time": "2022-05-01T08:46:14.693Z"
   },
   {
    "duration": 0,
    "start_time": "2022-05-01T08:46:14.694Z"
   },
   {
    "duration": 0,
    "start_time": "2022-05-01T08:46:14.696Z"
   },
   {
    "duration": 0,
    "start_time": "2022-05-01T08:46:14.696Z"
   },
   {
    "duration": 0,
    "start_time": "2022-05-01T08:46:14.698Z"
   },
   {
    "duration": 0,
    "start_time": "2022-05-01T08:46:14.699Z"
   },
   {
    "duration": 0,
    "start_time": "2022-05-01T08:46:14.700Z"
   },
   {
    "duration": 0,
    "start_time": "2022-05-01T08:46:14.701Z"
   },
   {
    "duration": 0,
    "start_time": "2022-05-01T08:46:14.702Z"
   },
   {
    "duration": 0,
    "start_time": "2022-05-01T08:46:14.703Z"
   },
   {
    "duration": 0,
    "start_time": "2022-05-01T08:46:14.703Z"
   },
   {
    "duration": 0,
    "start_time": "2022-05-01T08:46:14.704Z"
   },
   {
    "duration": 0,
    "start_time": "2022-05-01T08:46:14.705Z"
   },
   {
    "duration": 0,
    "start_time": "2022-05-01T08:46:14.706Z"
   },
   {
    "duration": 0,
    "start_time": "2022-05-01T08:46:14.707Z"
   },
   {
    "duration": 4,
    "start_time": "2022-05-01T08:47:15.020Z"
   },
   {
    "duration": 1358,
    "start_time": "2022-05-01T08:47:15.027Z"
   },
   {
    "duration": 96,
    "start_time": "2022-05-01T08:47:16.387Z"
   },
   {
    "duration": 12,
    "start_time": "2022-05-01T08:47:16.485Z"
   },
   {
    "duration": 10,
    "start_time": "2022-05-01T08:47:16.500Z"
   },
   {
    "duration": 8,
    "start_time": "2022-05-01T08:47:16.512Z"
   },
   {
    "duration": 5,
    "start_time": "2022-05-01T08:47:16.522Z"
   },
   {
    "duration": 3,
    "start_time": "2022-05-01T08:47:16.529Z"
   },
   {
    "duration": 47,
    "start_time": "2022-05-01T08:47:16.534Z"
   },
   {
    "duration": 11,
    "start_time": "2022-05-01T08:47:16.582Z"
   },
   {
    "duration": 4,
    "start_time": "2022-05-01T08:47:16.595Z"
   },
   {
    "duration": 9,
    "start_time": "2022-05-01T08:47:16.601Z"
   },
   {
    "duration": 4635,
    "start_time": "2022-05-01T08:47:16.611Z"
   },
   {
    "duration": 135,
    "start_time": "2022-05-01T08:47:21.247Z"
   },
   {
    "duration": 357,
    "start_time": "2022-05-01T08:47:21.383Z"
   },
   {
    "duration": 0,
    "start_time": "2022-05-01T08:47:21.742Z"
   },
   {
    "duration": 0,
    "start_time": "2022-05-01T08:47:21.743Z"
   },
   {
    "duration": 0,
    "start_time": "2022-05-01T08:47:21.744Z"
   },
   {
    "duration": 0,
    "start_time": "2022-05-01T08:47:21.745Z"
   },
   {
    "duration": 0,
    "start_time": "2022-05-01T08:47:21.746Z"
   },
   {
    "duration": 0,
    "start_time": "2022-05-01T08:47:21.747Z"
   },
   {
    "duration": 0,
    "start_time": "2022-05-01T08:47:21.748Z"
   },
   {
    "duration": 0,
    "start_time": "2022-05-01T08:47:21.749Z"
   },
   {
    "duration": 0,
    "start_time": "2022-05-01T08:47:21.750Z"
   },
   {
    "duration": 0,
    "start_time": "2022-05-01T08:47:21.751Z"
   },
   {
    "duration": 0,
    "start_time": "2022-05-01T08:47:21.773Z"
   },
   {
    "duration": 0,
    "start_time": "2022-05-01T08:47:21.774Z"
   },
   {
    "duration": 88,
    "start_time": "2022-05-01T08:47:47.390Z"
   },
   {
    "duration": 3,
    "start_time": "2022-05-01T08:48:06.376Z"
   },
   {
    "duration": 1409,
    "start_time": "2022-05-01T08:48:06.382Z"
   },
   {
    "duration": 81,
    "start_time": "2022-05-01T08:48:07.793Z"
   },
   {
    "duration": 13,
    "start_time": "2022-05-01T08:48:07.875Z"
   },
   {
    "duration": 6,
    "start_time": "2022-05-01T08:48:07.890Z"
   },
   {
    "duration": 12,
    "start_time": "2022-05-01T08:48:07.897Z"
   },
   {
    "duration": 6,
    "start_time": "2022-05-01T08:48:07.910Z"
   },
   {
    "duration": 7,
    "start_time": "2022-05-01T08:48:07.917Z"
   },
   {
    "duration": 19,
    "start_time": "2022-05-01T08:48:07.925Z"
   },
   {
    "duration": 37,
    "start_time": "2022-05-01T08:48:07.945Z"
   },
   {
    "duration": 4,
    "start_time": "2022-05-01T08:48:07.984Z"
   },
   {
    "duration": 8,
    "start_time": "2022-05-01T08:48:07.989Z"
   },
   {
    "duration": 4689,
    "start_time": "2022-05-01T08:48:07.998Z"
   },
   {
    "duration": 127,
    "start_time": "2022-05-01T08:48:12.689Z"
   },
   {
    "duration": 67,
    "start_time": "2022-05-01T08:48:12.818Z"
   },
   {
    "duration": 222,
    "start_time": "2022-05-01T08:48:12.975Z"
   },
   {
    "duration": 5,
    "start_time": "2022-05-01T08:48:13.198Z"
   },
   {
    "duration": 2623,
    "start_time": "2022-05-01T08:48:13.205Z"
   },
   {
    "duration": 3435,
    "start_time": "2022-05-01T08:48:15.830Z"
   },
   {
    "duration": 156,
    "start_time": "2022-05-01T08:48:19.274Z"
   },
   {
    "duration": 144,
    "start_time": "2022-05-01T08:48:19.431Z"
   },
   {
    "duration": 2428,
    "start_time": "2022-05-01T08:48:19.576Z"
   },
   {
    "duration": 3199,
    "start_time": "2022-05-01T08:48:22.075Z"
   },
   {
    "duration": 198,
    "start_time": "2022-05-01T08:48:25.276Z"
   },
   {
    "duration": 343,
    "start_time": "2022-05-01T08:48:25.481Z"
   },
   {
    "duration": 339,
    "start_time": "2022-05-01T08:48:25.826Z"
   },
   {
    "duration": 7,
    "start_time": "2022-05-01T08:48:26.167Z"
   },
   {
    "duration": 193,
    "start_time": "2022-05-01T08:48:59.848Z"
   },
   {
    "duration": 104,
    "start_time": "2022-05-01T08:54:57.901Z"
   },
   {
    "duration": 98,
    "start_time": "2022-05-01T08:57:27.925Z"
   },
   {
    "duration": 65,
    "start_time": "2022-05-01T09:00:14.506Z"
   },
   {
    "duration": 82,
    "start_time": "2022-05-01T09:01:00.728Z"
   },
   {
    "duration": 92,
    "start_time": "2022-05-01T09:01:35.343Z"
   },
   {
    "duration": 101,
    "start_time": "2022-05-01T09:02:10.576Z"
   },
   {
    "duration": 123,
    "start_time": "2022-05-01T09:11:51.856Z"
   },
   {
    "duration": 4767,
    "start_time": "2022-05-01T09:13:11.513Z"
   },
   {
    "duration": 4763,
    "start_time": "2022-05-01T09:14:43.894Z"
   },
   {
    "duration": 4694,
    "start_time": "2022-05-01T09:15:45.769Z"
   },
   {
    "duration": 4730,
    "start_time": "2022-05-01T09:16:45.530Z"
   },
   {
    "duration": 4879,
    "start_time": "2022-05-01T09:17:39.529Z"
   },
   {
    "duration": 4744,
    "start_time": "2022-05-01T09:19:16.329Z"
   },
   {
    "duration": 4877,
    "start_time": "2022-05-01T09:21:02.887Z"
   },
   {
    "duration": 4896,
    "start_time": "2022-05-01T09:21:40.290Z"
   },
   {
    "duration": 10,
    "start_time": "2022-05-01T09:23:00.054Z"
   },
   {
    "duration": 5110,
    "start_time": "2022-05-01T09:23:22.200Z"
   },
   {
    "duration": 142,
    "start_time": "2022-05-01T09:26:11.070Z"
   },
   {
    "duration": 114,
    "start_time": "2022-05-01T09:27:58.548Z"
   },
   {
    "duration": 82,
    "start_time": "2022-05-01T09:28:11.101Z"
   },
   {
    "duration": 116,
    "start_time": "2022-05-01T09:31:39.031Z"
   },
   {
    "duration": 4666,
    "start_time": "2022-05-01T09:32:02.759Z"
   },
   {
    "duration": 120,
    "start_time": "2022-05-01T09:32:07.427Z"
   },
   {
    "duration": 127,
    "start_time": "2022-05-01T09:33:33.351Z"
   },
   {
    "duration": 250,
    "start_time": "2022-05-01T09:33:43.545Z"
   },
   {
    "duration": 1265,
    "start_time": "2022-05-01T09:39:39.986Z"
   },
   {
    "duration": 4,
    "start_time": "2022-05-01T09:39:57.952Z"
   },
   {
    "duration": 1394,
    "start_time": "2022-05-01T09:39:57.969Z"
   },
   {
    "duration": 104,
    "start_time": "2022-05-01T09:39:59.365Z"
   },
   {
    "duration": 15,
    "start_time": "2022-05-01T09:39:59.470Z"
   },
   {
    "duration": 10,
    "start_time": "2022-05-01T09:39:59.487Z"
   },
   {
    "duration": 8,
    "start_time": "2022-05-01T09:39:59.500Z"
   },
   {
    "duration": 9,
    "start_time": "2022-05-01T09:39:59.509Z"
   },
   {
    "duration": 3,
    "start_time": "2022-05-01T09:39:59.520Z"
   },
   {
    "duration": 20,
    "start_time": "2022-05-01T09:39:59.525Z"
   },
   {
    "duration": 35,
    "start_time": "2022-05-01T09:39:59.546Z"
   },
   {
    "duration": 8,
    "start_time": "2022-05-01T09:39:59.583Z"
   },
   {
    "duration": 7,
    "start_time": "2022-05-01T09:39:59.592Z"
   },
   {
    "duration": 5115,
    "start_time": "2022-05-01T09:39:59.600Z"
   },
   {
    "duration": 142,
    "start_time": "2022-05-01T09:40:04.717Z"
   },
   {
    "duration": 113,
    "start_time": "2022-05-01T09:40:04.873Z"
   },
   {
    "duration": 315,
    "start_time": "2022-05-01T09:40:04.988Z"
   },
   {
    "duration": 138,
    "start_time": "2022-05-01T09:40:05.304Z"
   },
   {
    "duration": 6,
    "start_time": "2022-05-01T09:40:05.444Z"
   },
   {
    "duration": 1376,
    "start_time": "2022-05-01T09:40:05.452Z"
   },
   {
    "duration": 1937,
    "start_time": "2022-05-01T09:40:06.830Z"
   },
   {
    "duration": 122,
    "start_time": "2022-05-01T09:40:08.772Z"
   },
   {
    "duration": 112,
    "start_time": "2022-05-01T09:40:08.896Z"
   },
   {
    "duration": 2194,
    "start_time": "2022-05-01T09:40:09.010Z"
   },
   {
    "duration": 2168,
    "start_time": "2022-05-01T09:40:11.205Z"
   },
   {
    "duration": 116,
    "start_time": "2022-05-01T09:40:13.381Z"
   },
   {
    "duration": 407,
    "start_time": "2022-05-01T09:40:13.499Z"
   },
   {
    "duration": 445,
    "start_time": "2022-05-01T09:40:13.908Z"
   },
   {
    "duration": 6,
    "start_time": "2022-05-01T09:40:14.355Z"
   },
   {
    "duration": 3,
    "start_time": "2022-05-01T09:51:15.963Z"
   },
   {
    "duration": 1412,
    "start_time": "2022-05-01T09:51:15.969Z"
   },
   {
    "duration": 86,
    "start_time": "2022-05-01T09:51:17.383Z"
   },
   {
    "duration": 16,
    "start_time": "2022-05-01T09:51:17.471Z"
   },
   {
    "duration": 8,
    "start_time": "2022-05-01T09:51:17.490Z"
   },
   {
    "duration": 9,
    "start_time": "2022-05-01T09:51:17.500Z"
   },
   {
    "duration": 7,
    "start_time": "2022-05-01T09:51:17.511Z"
   },
   {
    "duration": 6,
    "start_time": "2022-05-01T09:51:17.519Z"
   },
   {
    "duration": 16,
    "start_time": "2022-05-01T09:51:17.527Z"
   },
   {
    "duration": 41,
    "start_time": "2022-05-01T09:51:17.545Z"
   },
   {
    "duration": 5,
    "start_time": "2022-05-01T09:51:17.590Z"
   },
   {
    "duration": 13,
    "start_time": "2022-05-01T09:51:17.597Z"
   },
   {
    "duration": 4628,
    "start_time": "2022-05-01T09:51:17.612Z"
   },
   {
    "duration": 150,
    "start_time": "2022-05-01T09:51:22.242Z"
   },
   {
    "duration": 103,
    "start_time": "2022-05-01T09:51:22.393Z"
   },
   {
    "duration": 377,
    "start_time": "2022-05-01T09:51:22.498Z"
   },
   {
    "duration": 130,
    "start_time": "2022-05-01T09:51:22.876Z"
   },
   {
    "duration": 6,
    "start_time": "2022-05-01T09:51:23.008Z"
   },
   {
    "duration": 1307,
    "start_time": "2022-05-01T09:51:23.016Z"
   },
   {
    "duration": 1949,
    "start_time": "2022-05-01T09:51:24.324Z"
   },
   {
    "duration": 117,
    "start_time": "2022-05-01T09:51:26.275Z"
   },
   {
    "duration": 116,
    "start_time": "2022-05-01T09:51:26.393Z"
   },
   {
    "duration": 2368,
    "start_time": "2022-05-01T09:51:26.511Z"
   },
   {
    "duration": 2406,
    "start_time": "2022-05-01T09:51:28.886Z"
   },
   {
    "duration": 125,
    "start_time": "2022-05-01T09:51:31.374Z"
   },
   {
    "duration": 409,
    "start_time": "2022-05-01T09:51:31.502Z"
   },
   {
    "duration": 441,
    "start_time": "2022-05-01T09:51:31.913Z"
   },
   {
    "duration": 6,
    "start_time": "2022-05-01T09:51:32.356Z"
   },
   {
    "duration": 3,
    "start_time": "2022-05-01T09:51:59.130Z"
   },
   {
    "duration": 1546,
    "start_time": "2022-05-01T09:51:59.135Z"
   },
   {
    "duration": 95,
    "start_time": "2022-05-01T09:52:00.683Z"
   },
   {
    "duration": 18,
    "start_time": "2022-05-01T09:52:00.782Z"
   },
   {
    "duration": 24,
    "start_time": "2022-05-01T09:52:00.802Z"
   },
   {
    "duration": 25,
    "start_time": "2022-05-01T09:52:00.828Z"
   },
   {
    "duration": 16,
    "start_time": "2022-05-01T09:52:00.855Z"
   },
   {
    "duration": 31,
    "start_time": "2022-05-01T09:52:00.872Z"
   },
   {
    "duration": 27,
    "start_time": "2022-05-01T09:52:00.906Z"
   },
   {
    "duration": 12,
    "start_time": "2022-05-01T09:52:00.934Z"
   },
   {
    "duration": 4,
    "start_time": "2022-05-01T09:52:00.948Z"
   },
   {
    "duration": 11,
    "start_time": "2022-05-01T09:52:00.954Z"
   },
   {
    "duration": 5000,
    "start_time": "2022-05-01T09:52:00.967Z"
   },
   {
    "duration": 163,
    "start_time": "2022-05-01T09:52:05.969Z"
   },
   {
    "duration": 153,
    "start_time": "2022-05-01T09:52:06.133Z"
   },
   {
    "duration": 400,
    "start_time": "2022-05-01T09:52:06.293Z"
   },
   {
    "duration": 133,
    "start_time": "2022-05-01T09:52:06.695Z"
   },
   {
    "duration": 6,
    "start_time": "2022-05-01T09:52:06.829Z"
   },
   {
    "duration": 1312,
    "start_time": "2022-05-01T09:52:06.837Z"
   },
   {
    "duration": 1868,
    "start_time": "2022-05-01T09:52:08.150Z"
   },
   {
    "duration": 121,
    "start_time": "2022-05-01T09:52:10.020Z"
   },
   {
    "duration": 113,
    "start_time": "2022-05-01T09:52:10.143Z"
   },
   {
    "duration": 2422,
    "start_time": "2022-05-01T09:52:10.258Z"
   },
   {
    "duration": 2895,
    "start_time": "2022-05-01T09:52:12.691Z"
   },
   {
    "duration": 119,
    "start_time": "2022-05-01T09:52:15.591Z"
   },
   {
    "duration": 341,
    "start_time": "2022-05-01T09:52:15.775Z"
   },
   {
    "duration": 426,
    "start_time": "2022-05-01T09:52:16.118Z"
   },
   {
    "duration": 6,
    "start_time": "2022-05-01T09:52:16.546Z"
   },
   {
    "duration": 1662,
    "start_time": "2022-05-01T10:26:05.338Z"
   },
   {
    "duration": 1660,
    "start_time": "2022-05-01T10:26:46.355Z"
   },
   {
    "duration": 1125,
    "start_time": "2022-05-01T10:28:29.942Z"
   },
   {
    "duration": 1020,
    "start_time": "2022-05-01T10:28:59.267Z"
   },
   {
    "duration": 114,
    "start_time": "2022-05-01T10:34:01.160Z"
   },
   {
    "duration": 79,
    "start_time": "2022-05-01T10:34:08.255Z"
   },
   {
    "duration": 70,
    "start_time": "2022-05-01T10:34:35.699Z"
   },
   {
    "duration": 78,
    "start_time": "2022-05-01T10:36:45.963Z"
   },
   {
    "duration": 114,
    "start_time": "2022-05-01T10:38:03.599Z"
   },
   {
    "duration": 108,
    "start_time": "2022-05-01T10:38:42.207Z"
   },
   {
    "duration": 171,
    "start_time": "2022-05-01T10:39:14.287Z"
   },
   {
    "duration": 1400,
    "start_time": "2022-05-01T10:39:45.284Z"
   },
   {
    "duration": 85,
    "start_time": "2022-05-01T10:40:52.117Z"
   },
   {
    "duration": 107,
    "start_time": "2022-05-01T10:43:39.722Z"
   },
   {
    "duration": 124,
    "start_time": "2022-05-01T10:44:05.784Z"
   },
   {
    "duration": 109,
    "start_time": "2022-05-01T10:45:18.415Z"
   },
   {
    "duration": 106,
    "start_time": "2022-05-01T10:46:06.554Z"
   },
   {
    "duration": 108,
    "start_time": "2022-05-01T10:47:16.138Z"
   },
   {
    "duration": 116,
    "start_time": "2022-05-01T10:49:09.819Z"
   },
   {
    "duration": 2551,
    "start_time": "2022-05-01T10:56:55.154Z"
   },
   {
    "duration": 8174,
    "start_time": "2022-05-01T10:57:06.938Z"
   },
   {
    "duration": 2302,
    "start_time": "2022-05-01T10:58:03.186Z"
   },
   {
    "duration": 7882,
    "start_time": "2022-05-01T10:58:39.905Z"
   },
   {
    "duration": 31,
    "start_time": "2022-05-01T11:01:56.311Z"
   },
   {
    "duration": 245,
    "start_time": "2022-05-01T11:03:39.043Z"
   },
   {
    "duration": 241,
    "start_time": "2022-05-01T11:16:06.244Z"
   },
   {
    "duration": 259,
    "start_time": "2022-05-01T11:16:10.569Z"
   },
   {
    "duration": 122,
    "start_time": "2022-05-01T11:35:32.221Z"
   },
   {
    "duration": 120,
    "start_time": "2022-05-01T11:35:39.526Z"
   },
   {
    "duration": 139,
    "start_time": "2022-05-01T11:35:41.098Z"
   },
   {
    "duration": 19,
    "start_time": "2022-05-01T11:37:10.526Z"
   },
   {
    "duration": 17,
    "start_time": "2022-05-01T11:37:14.039Z"
   },
   {
    "duration": 23,
    "start_time": "2022-05-01T11:37:14.873Z"
   },
   {
    "duration": 2355,
    "start_time": "2022-05-01T11:37:26.364Z"
   },
   {
    "duration": 8486,
    "start_time": "2022-05-01T11:37:28.721Z"
   },
   {
    "duration": 135,
    "start_time": "2022-05-01T11:37:37.282Z"
   },
   {
    "duration": 384,
    "start_time": "2022-05-01T11:37:37.423Z"
   },
   {
    "duration": 225,
    "start_time": "2022-05-01T11:37:37.809Z"
   },
   {
    "duration": 314,
    "start_time": "2022-05-01T11:37:38.035Z"
   },
   {
    "duration": 4,
    "start_time": "2022-05-01T11:38:16.398Z"
   },
   {
    "duration": 1601,
    "start_time": "2022-05-01T11:38:16.406Z"
   },
   {
    "duration": 86,
    "start_time": "2022-05-01T11:38:18.011Z"
   },
   {
    "duration": 19,
    "start_time": "2022-05-01T11:38:18.099Z"
   },
   {
    "duration": 6,
    "start_time": "2022-05-01T11:38:18.120Z"
   },
   {
    "duration": 13,
    "start_time": "2022-05-01T11:38:18.128Z"
   },
   {
    "duration": 37,
    "start_time": "2022-05-01T11:38:18.142Z"
   },
   {
    "duration": 36,
    "start_time": "2022-05-01T11:38:18.181Z"
   },
   {
    "duration": 21,
    "start_time": "2022-05-01T11:38:18.220Z"
   },
   {
    "duration": 12,
    "start_time": "2022-05-01T11:38:18.243Z"
   },
   {
    "duration": 4,
    "start_time": "2022-05-01T11:38:18.257Z"
   },
   {
    "duration": 26,
    "start_time": "2022-05-01T11:38:18.263Z"
   },
   {
    "duration": 5344,
    "start_time": "2022-05-01T11:38:18.293Z"
   },
   {
    "duration": 200,
    "start_time": "2022-05-01T11:38:23.638Z"
   },
   {
    "duration": 162,
    "start_time": "2022-05-01T11:38:23.840Z"
   },
   {
    "duration": 412,
    "start_time": "2022-05-01T11:38:24.006Z"
   },
   {
    "duration": 159,
    "start_time": "2022-05-01T11:38:24.420Z"
   },
   {
    "duration": 10,
    "start_time": "2022-05-01T11:38:24.581Z"
   },
   {
    "duration": 1450,
    "start_time": "2022-05-01T11:38:24.593Z"
   },
   {
    "duration": 1149,
    "start_time": "2022-05-01T11:38:26.045Z"
   },
   {
    "duration": 81,
    "start_time": "2022-05-01T11:38:27.198Z"
   },
   {
    "duration": 141,
    "start_time": "2022-05-01T11:38:27.281Z"
   },
   {
    "duration": 174,
    "start_time": "2022-05-01T11:38:27.424Z"
   },
   {
    "duration": 2316,
    "start_time": "2022-05-01T11:38:27.604Z"
   },
   {
    "duration": 8624,
    "start_time": "2022-05-01T11:38:29.974Z"
   },
   {
    "duration": 188,
    "start_time": "2022-05-01T11:38:38.603Z"
   },
   {
    "duration": 342,
    "start_time": "2022-05-01T11:38:38.799Z"
   },
   {
    "duration": 181,
    "start_time": "2022-05-01T11:38:39.143Z"
   },
   {
    "duration": 339,
    "start_time": "2022-05-01T11:38:39.325Z"
   },
   {
    "duration": 494,
    "start_time": "2022-05-01T11:38:39.667Z"
   },
   {
    "duration": 11,
    "start_time": "2022-05-01T11:38:40.162Z"
   },
   {
    "duration": 4,
    "start_time": "2022-05-01T11:39:01.837Z"
   },
   {
    "duration": 1692,
    "start_time": "2022-05-01T11:39:01.843Z"
   },
   {
    "duration": 113,
    "start_time": "2022-05-01T11:39:03.537Z"
   },
   {
    "duration": 14,
    "start_time": "2022-05-01T11:39:03.652Z"
   },
   {
    "duration": 12,
    "start_time": "2022-05-01T11:39:03.668Z"
   },
   {
    "duration": 34,
    "start_time": "2022-05-01T11:39:03.683Z"
   },
   {
    "duration": 8,
    "start_time": "2022-05-01T11:39:03.719Z"
   },
   {
    "duration": 15,
    "start_time": "2022-05-01T11:39:03.729Z"
   },
   {
    "duration": 22,
    "start_time": "2022-05-01T11:39:03.746Z"
   },
   {
    "duration": 17,
    "start_time": "2022-05-01T11:39:03.770Z"
   },
   {
    "duration": 22,
    "start_time": "2022-05-01T11:39:03.790Z"
   },
   {
    "duration": 12,
    "start_time": "2022-05-01T11:39:03.814Z"
   },
   {
    "duration": 5227,
    "start_time": "2022-05-01T11:39:03.829Z"
   },
   {
    "duration": 168,
    "start_time": "2022-05-01T11:39:09.058Z"
   },
   {
    "duration": 92,
    "start_time": "2022-05-01T11:39:09.228Z"
   },
   {
    "duration": 369,
    "start_time": "2022-05-01T11:39:09.321Z"
   },
   {
    "duration": 152,
    "start_time": "2022-05-01T11:39:09.693Z"
   },
   {
    "duration": 6,
    "start_time": "2022-05-01T11:39:09.847Z"
   },
   {
    "duration": 1496,
    "start_time": "2022-05-01T11:39:09.855Z"
   },
   {
    "duration": 1163,
    "start_time": "2022-05-01T11:39:11.352Z"
   },
   {
    "duration": 89,
    "start_time": "2022-05-01T11:39:12.516Z"
   },
   {
    "duration": 130,
    "start_time": "2022-05-01T11:39:12.608Z"
   },
   {
    "duration": 148,
    "start_time": "2022-05-01T11:39:12.740Z"
   },
   {
    "duration": 2430,
    "start_time": "2022-05-01T11:39:12.890Z"
   },
   {
    "duration": 8638,
    "start_time": "2022-05-01T11:39:15.375Z"
   },
   {
    "duration": 193,
    "start_time": "2022-05-01T11:39:24.016Z"
   },
   {
    "duration": 422,
    "start_time": "2022-05-01T11:39:24.213Z"
   },
   {
    "duration": 197,
    "start_time": "2022-05-01T11:39:24.637Z"
   },
   {
    "duration": 362,
    "start_time": "2022-05-01T11:39:24.839Z"
   },
   {
    "duration": 523,
    "start_time": "2022-05-01T11:39:25.203Z"
   },
   {
    "duration": 6,
    "start_time": "2022-05-01T11:39:25.728Z"
   },
   {
    "duration": 12,
    "start_time": "2022-05-01T11:46:32.398Z"
   },
   {
    "duration": 5,
    "start_time": "2022-05-01T11:47:17.518Z"
   },
   {
    "duration": 1517,
    "start_time": "2022-05-01T11:47:17.527Z"
   },
   {
    "duration": 94,
    "start_time": "2022-05-01T11:47:19.046Z"
   },
   {
    "duration": 16,
    "start_time": "2022-05-01T11:47:19.143Z"
   },
   {
    "duration": 8,
    "start_time": "2022-05-01T11:47:19.162Z"
   },
   {
    "duration": 39,
    "start_time": "2022-05-01T11:47:19.171Z"
   },
   {
    "duration": 12,
    "start_time": "2022-05-01T11:47:19.212Z"
   },
   {
    "duration": 5,
    "start_time": "2022-05-01T11:47:19.226Z"
   },
   {
    "duration": 20,
    "start_time": "2022-05-01T11:47:19.234Z"
   },
   {
    "duration": 13,
    "start_time": "2022-05-01T11:47:19.256Z"
   },
   {
    "duration": 25,
    "start_time": "2022-05-01T11:47:19.271Z"
   },
   {
    "duration": 11,
    "start_time": "2022-05-01T11:47:19.298Z"
   },
   {
    "duration": 5588,
    "start_time": "2022-05-01T11:47:19.311Z"
   },
   {
    "duration": 158,
    "start_time": "2022-05-01T11:47:24.901Z"
   },
   {
    "duration": 130,
    "start_time": "2022-05-01T11:47:25.060Z"
   },
   {
    "duration": 414,
    "start_time": "2022-05-01T11:47:25.192Z"
   },
   {
    "duration": 167,
    "start_time": "2022-05-01T11:47:25.609Z"
   },
   {
    "duration": 8,
    "start_time": "2022-05-01T11:47:25.778Z"
   },
   {
    "duration": 1395,
    "start_time": "2022-05-01T11:47:25.788Z"
   },
   {
    "duration": 1173,
    "start_time": "2022-05-01T11:47:27.185Z"
   },
   {
    "duration": 96,
    "start_time": "2022-05-01T11:47:28.361Z"
   },
   {
    "duration": 144,
    "start_time": "2022-05-01T11:47:28.460Z"
   },
   {
    "duration": 146,
    "start_time": "2022-05-01T11:47:28.606Z"
   },
   {
    "duration": 2323,
    "start_time": "2022-05-01T11:47:28.756Z"
   },
   {
    "duration": 8008,
    "start_time": "2022-05-01T11:47:31.084Z"
   },
   {
    "duration": 113,
    "start_time": "2022-05-01T11:47:39.173Z"
   },
   {
    "duration": 316,
    "start_time": "2022-05-01T11:47:39.295Z"
   },
   {
    "duration": 230,
    "start_time": "2022-05-01T11:47:39.614Z"
   },
   {
    "duration": 356,
    "start_time": "2022-05-01T11:47:39.846Z"
   },
   {
    "duration": 489,
    "start_time": "2022-05-01T11:47:40.205Z"
   },
   {
    "duration": 7,
    "start_time": "2022-05-01T11:47:40.696Z"
   },
   {
    "duration": 7,
    "start_time": "2022-05-01T11:48:31.787Z"
   },
   {
    "duration": 4676,
    "start_time": "2022-05-01T11:50:37.450Z"
   },
   {
    "duration": 135,
    "start_time": "2022-05-01T11:50:42.129Z"
   },
   {
    "duration": 7552,
    "start_time": "2022-05-01T11:52:44.899Z"
   },
   {
    "duration": 8141,
    "start_time": "2022-05-01T11:53:17.053Z"
   },
   {
    "duration": 7855,
    "start_time": "2022-05-01T11:53:37.309Z"
   },
   {
    "duration": 8502,
    "start_time": "2022-05-01T11:55:01.498Z"
   },
   {
    "duration": 3605,
    "start_time": "2022-05-01T11:55:27.338Z"
   },
   {
    "duration": 5128,
    "start_time": "2022-05-01T11:55:43.846Z"
   },
   {
    "duration": 4851,
    "start_time": "2022-05-01T11:56:10.173Z"
   },
   {
    "duration": 4874,
    "start_time": "2022-05-01T11:56:26.277Z"
   },
   {
    "duration": 4834,
    "start_time": "2022-05-01T11:56:40.751Z"
   },
   {
    "duration": 4851,
    "start_time": "2022-05-01T11:58:40.451Z"
   },
   {
    "duration": 7559,
    "start_time": "2022-05-01T11:59:04.016Z"
   },
   {
    "duration": 7545,
    "start_time": "2022-05-01T11:59:42.606Z"
   },
   {
    "duration": 8200,
    "start_time": "2022-05-01T12:00:03.142Z"
   },
   {
    "duration": 5216,
    "start_time": "2022-05-01T12:00:37.698Z"
   },
   {
    "duration": 10,
    "start_time": "2022-05-01T12:10:09.271Z"
   },
   {
    "duration": 1557,
    "start_time": "2022-05-01T12:10:09.285Z"
   },
   {
    "duration": 84,
    "start_time": "2022-05-01T12:10:10.844Z"
   },
   {
    "duration": 15,
    "start_time": "2022-05-01T12:10:10.930Z"
   },
   {
    "duration": 10,
    "start_time": "2022-05-01T12:10:10.946Z"
   },
   {
    "duration": 13,
    "start_time": "2022-05-01T12:10:10.958Z"
   },
   {
    "duration": 6,
    "start_time": "2022-05-01T12:10:10.975Z"
   },
   {
    "duration": 23,
    "start_time": "2022-05-01T12:10:10.983Z"
   },
   {
    "duration": 21,
    "start_time": "2022-05-01T12:10:11.008Z"
   },
   {
    "duration": 12,
    "start_time": "2022-05-01T12:10:11.031Z"
   },
   {
    "duration": 5,
    "start_time": "2022-05-01T12:10:11.045Z"
   },
   {
    "duration": 25,
    "start_time": "2022-05-01T12:10:11.052Z"
   },
   {
    "duration": 7959,
    "start_time": "2022-05-01T12:10:11.080Z"
   },
   {
    "duration": 5088,
    "start_time": "2022-05-01T12:10:19.041Z"
   },
   {
    "duration": 150,
    "start_time": "2022-05-01T12:10:24.130Z"
   },
   {
    "duration": 192,
    "start_time": "2022-05-01T12:10:24.282Z"
   },
   {
    "duration": 342,
    "start_time": "2022-05-01T12:10:24.476Z"
   },
   {
    "duration": 182,
    "start_time": "2022-05-01T12:10:24.820Z"
   },
   {
    "duration": 6,
    "start_time": "2022-05-01T12:10:25.004Z"
   },
   {
    "duration": 1380,
    "start_time": "2022-05-01T12:10:25.013Z"
   },
   {
    "duration": 1109,
    "start_time": "2022-05-01T12:10:26.394Z"
   },
   {
    "duration": 106,
    "start_time": "2022-05-01T12:10:27.504Z"
   },
   {
    "duration": 127,
    "start_time": "2022-05-01T12:10:27.612Z"
   },
   {
    "duration": 150,
    "start_time": "2022-05-01T12:10:27.743Z"
   },
   {
    "duration": 2587,
    "start_time": "2022-05-01T12:10:27.896Z"
   },
   {
    "duration": 8410,
    "start_time": "2022-05-01T12:10:30.487Z"
   },
   {
    "duration": 187,
    "start_time": "2022-05-01T12:10:38.904Z"
   },
   {
    "duration": 324,
    "start_time": "2022-05-01T12:10:39.095Z"
   },
   {
    "duration": 216,
    "start_time": "2022-05-01T12:10:39.422Z"
   },
   {
    "duration": 263,
    "start_time": "2022-05-01T12:10:39.641Z"
   },
   {
    "duration": 406,
    "start_time": "2022-05-01T12:10:39.907Z"
   },
   {
    "duration": 6,
    "start_time": "2022-05-01T12:10:40.315Z"
   },
   {
    "duration": 4930,
    "start_time": "2022-05-01T12:14:27.673Z"
   },
   {
    "duration": 5145,
    "start_time": "2022-05-01T12:15:02.030Z"
   },
   {
    "duration": 13,
    "start_time": "2022-05-01T12:16:07.243Z"
   },
   {
    "duration": 1626,
    "start_time": "2022-05-01T12:16:07.258Z"
   },
   {
    "duration": 83,
    "start_time": "2022-05-01T12:16:08.886Z"
   },
   {
    "duration": 22,
    "start_time": "2022-05-01T12:16:08.971Z"
   },
   {
    "duration": 13,
    "start_time": "2022-05-01T12:16:08.994Z"
   },
   {
    "duration": 11,
    "start_time": "2022-05-01T12:16:09.010Z"
   },
   {
    "duration": 7,
    "start_time": "2022-05-01T12:16:09.023Z"
   },
   {
    "duration": 5,
    "start_time": "2022-05-01T12:16:09.032Z"
   },
   {
    "duration": 50,
    "start_time": "2022-05-01T12:16:09.039Z"
   },
   {
    "duration": 22,
    "start_time": "2022-05-01T12:16:09.093Z"
   },
   {
    "duration": 6,
    "start_time": "2022-05-01T12:16:09.116Z"
   },
   {
    "duration": 14,
    "start_time": "2022-05-01T12:16:09.124Z"
   },
   {
    "duration": 5139,
    "start_time": "2022-05-01T12:16:09.140Z"
   },
   {
    "duration": 7958,
    "start_time": "2022-05-01T12:16:14.281Z"
   },
   {
    "duration": 5142,
    "start_time": "2022-05-01T12:16:22.241Z"
   },
   {
    "duration": 172,
    "start_time": "2022-05-01T12:16:27.385Z"
   },
   {
    "duration": 122,
    "start_time": "2022-05-01T12:16:27.559Z"
   },
   {
    "duration": 308,
    "start_time": "2022-05-01T12:16:27.683Z"
   },
   {
    "duration": 138,
    "start_time": "2022-05-01T12:16:27.994Z"
   },
   {
    "duration": 6,
    "start_time": "2022-05-01T12:16:28.134Z"
   },
   {
    "duration": 1370,
    "start_time": "2022-05-01T12:16:28.141Z"
   },
   {
    "duration": 1164,
    "start_time": "2022-05-01T12:16:29.512Z"
   },
   {
    "duration": 89,
    "start_time": "2022-05-01T12:16:30.678Z"
   },
   {
    "duration": 139,
    "start_time": "2022-05-01T12:16:30.774Z"
   },
   {
    "duration": 188,
    "start_time": "2022-05-01T12:16:30.916Z"
   },
   {
    "duration": 2567,
    "start_time": "2022-05-01T12:16:31.106Z"
   },
   {
    "duration": 8126,
    "start_time": "2022-05-01T12:16:33.680Z"
   },
   {
    "duration": 187,
    "start_time": "2022-05-01T12:16:41.819Z"
   },
   {
    "duration": 427,
    "start_time": "2022-05-01T12:16:42.009Z"
   },
   {
    "duration": 251,
    "start_time": "2022-05-01T12:16:42.438Z"
   },
   {
    "duration": 368,
    "start_time": "2022-05-01T12:16:42.691Z"
   },
   {
    "duration": 389,
    "start_time": "2022-05-01T12:16:43.061Z"
   },
   {
    "duration": 24,
    "start_time": "2022-05-01T12:16:43.452Z"
   },
   {
    "duration": 4973,
    "start_time": "2022-05-01T12:18:04.574Z"
   },
   {
    "duration": 8237,
    "start_time": "2022-05-01T12:19:03.638Z"
   },
   {
    "duration": 7629,
    "start_time": "2022-05-01T12:19:39.304Z"
   },
   {
    "duration": 1295,
    "start_time": "2022-05-01T13:04:57.271Z"
   },
   {
    "duration": 1336,
    "start_time": "2022-05-01T13:05:28.247Z"
   },
   {
    "duration": 1073,
    "start_time": "2022-05-01T13:06:48.277Z"
   },
   {
    "duration": 170,
    "start_time": "2022-05-01T13:10:24.586Z"
   },
   {
    "duration": 3754,
    "start_time": "2022-05-01T13:10:44.699Z"
   },
   {
    "duration": 1094,
    "start_time": "2022-05-01T13:12:25.936Z"
   },
   {
    "duration": 150,
    "start_time": "2022-05-01T13:15:06.354Z"
   },
   {
    "duration": 250,
    "start_time": "2022-05-01T13:15:52.256Z"
   },
   {
    "duration": 207,
    "start_time": "2022-05-01T13:16:24.177Z"
   },
   {
    "duration": 209,
    "start_time": "2022-05-01T13:17:05.316Z"
   },
   {
    "duration": 200,
    "start_time": "2022-05-01T13:18:32.084Z"
   },
   {
    "duration": 196,
    "start_time": "2022-05-01T13:18:45.091Z"
   },
   {
    "duration": 208,
    "start_time": "2022-05-01T13:19:16.060Z"
   },
   {
    "duration": 193,
    "start_time": "2022-05-01T13:19:56.084Z"
   },
   {
    "duration": 197,
    "start_time": "2022-05-01T13:21:28.212Z"
   },
   {
    "duration": 198,
    "start_time": "2022-05-01T13:22:35.229Z"
   },
   {
    "duration": 205,
    "start_time": "2022-05-01T13:22:51.686Z"
   },
   {
    "duration": 220,
    "start_time": "2022-05-01T13:23:01.326Z"
   },
   {
    "duration": 250,
    "start_time": "2022-05-01T13:23:48.486Z"
   },
   {
    "duration": 217,
    "start_time": "2022-05-01T13:24:28.392Z"
   },
   {
    "duration": 217,
    "start_time": "2022-05-01T13:29:55.470Z"
   },
   {
    "duration": 160,
    "start_time": "2022-05-01T13:30:49.216Z"
   },
   {
    "duration": 175,
    "start_time": "2022-05-01T13:31:02.676Z"
   },
   {
    "duration": 186,
    "start_time": "2022-05-01T13:36:06.093Z"
   },
   {
    "duration": 191,
    "start_time": "2022-05-01T13:37:24.843Z"
   },
   {
    "duration": 166,
    "start_time": "2022-05-01T13:38:34.311Z"
   },
   {
    "duration": 263,
    "start_time": "2022-05-01T13:45:16.093Z"
   },
   {
    "duration": 31,
    "start_time": "2022-05-01T13:45:20.320Z"
   },
   {
    "duration": 8,
    "start_time": "2022-05-01T14:36:58.569Z"
   },
   {
    "duration": 1559,
    "start_time": "2022-05-01T14:36:58.579Z"
   },
   {
    "duration": 109,
    "start_time": "2022-05-01T14:37:00.140Z"
   },
   {
    "duration": 14,
    "start_time": "2022-05-01T14:37:00.252Z"
   },
   {
    "duration": 6,
    "start_time": "2022-05-01T14:37:00.268Z"
   },
   {
    "duration": 12,
    "start_time": "2022-05-01T14:37:00.275Z"
   },
   {
    "duration": 6,
    "start_time": "2022-05-01T14:37:00.289Z"
   },
   {
    "duration": 8,
    "start_time": "2022-05-01T14:37:00.296Z"
   },
   {
    "duration": 27,
    "start_time": "2022-05-01T14:37:00.306Z"
   },
   {
    "duration": 12,
    "start_time": "2022-05-01T14:37:00.334Z"
   },
   {
    "duration": 6,
    "start_time": "2022-05-01T14:37:00.347Z"
   },
   {
    "duration": 28,
    "start_time": "2022-05-01T14:37:00.354Z"
   },
   {
    "duration": 4574,
    "start_time": "2022-05-01T14:37:00.384Z"
   },
   {
    "duration": 6873,
    "start_time": "2022-05-01T14:37:04.960Z"
   },
   {
    "duration": 152,
    "start_time": "2022-05-01T14:37:11.835Z"
   },
   {
    "duration": 88,
    "start_time": "2022-05-01T14:37:11.988Z"
   },
   {
    "duration": 399,
    "start_time": "2022-05-01T14:37:12.079Z"
   },
   {
    "duration": 123,
    "start_time": "2022-05-01T14:37:12.480Z"
   },
   {
    "duration": 5,
    "start_time": "2022-05-01T14:37:12.605Z"
   },
   {
    "duration": 3474,
    "start_time": "2022-05-01T14:37:12.612Z"
   },
   {
    "duration": 1011,
    "start_time": "2022-05-01T14:37:16.088Z"
   },
   {
    "duration": 192,
    "start_time": "2022-05-01T14:37:17.101Z"
   },
   {
    "duration": 115,
    "start_time": "2022-05-01T14:37:17.295Z"
   },
   {
    "duration": 0,
    "start_time": "2022-05-01T14:37:17.412Z"
   },
   {
    "duration": 0,
    "start_time": "2022-05-01T14:37:17.413Z"
   },
   {
    "duration": 0,
    "start_time": "2022-05-01T14:37:17.414Z"
   },
   {
    "duration": 0,
    "start_time": "2022-05-01T14:37:17.416Z"
   },
   {
    "duration": 0,
    "start_time": "2022-05-01T14:37:17.417Z"
   },
   {
    "duration": 0,
    "start_time": "2022-05-01T14:37:17.418Z"
   },
   {
    "duration": 0,
    "start_time": "2022-05-01T14:37:17.419Z"
   },
   {
    "duration": 0,
    "start_time": "2022-05-01T14:37:17.421Z"
   },
   {
    "duration": 0,
    "start_time": "2022-05-01T14:37:17.422Z"
   },
   {
    "duration": 159,
    "start_time": "2022-05-01T14:38:29.281Z"
   },
   {
    "duration": 162,
    "start_time": "2022-05-01T14:38:49.819Z"
   },
   {
    "duration": 176,
    "start_time": "2022-05-01T14:41:09.297Z"
   },
   {
    "duration": 179,
    "start_time": "2022-05-01T14:43:51.540Z"
   },
   {
    "duration": 183,
    "start_time": "2022-05-01T14:44:15.354Z"
   },
   {
    "duration": 171,
    "start_time": "2022-05-01T14:44:52.439Z"
   },
   {
    "duration": 156,
    "start_time": "2022-05-01T14:46:20.418Z"
   },
   {
    "duration": 1068,
    "start_time": "2022-05-01T14:46:42.227Z"
   },
   {
    "duration": 1027,
    "start_time": "2022-05-01T14:47:06.739Z"
   },
   {
    "duration": 1110,
    "start_time": "2022-05-01T14:47:19.676Z"
   },
   {
    "duration": 3588,
    "start_time": "2022-05-01T14:48:43.584Z"
   },
   {
    "duration": 3720,
    "start_time": "2022-05-01T14:49:02.145Z"
   },
   {
    "duration": 171,
    "start_time": "2022-05-01T14:50:40.033Z"
   },
   {
    "duration": 7137,
    "start_time": "2022-05-01T14:53:13.623Z"
   },
   {
    "duration": 26,
    "start_time": "2022-05-01T14:56:05.106Z"
   },
   {
    "duration": 27,
    "start_time": "2022-05-01T14:56:38.067Z"
   },
   {
    "duration": 302,
    "start_time": "2022-05-01T15:00:57.285Z"
   },
   {
    "duration": 243,
    "start_time": "2022-05-01T15:01:18.679Z"
   },
   {
    "duration": 8,
    "start_time": "2022-05-01T15:02:07.152Z"
   },
   {
    "duration": 1586,
    "start_time": "2022-05-01T15:02:07.162Z"
   },
   {
    "duration": 82,
    "start_time": "2022-05-01T15:02:08.750Z"
   },
   {
    "duration": 16,
    "start_time": "2022-05-01T15:02:08.834Z"
   },
   {
    "duration": 9,
    "start_time": "2022-05-01T15:02:08.852Z"
   },
   {
    "duration": 13,
    "start_time": "2022-05-01T15:02:08.863Z"
   },
   {
    "duration": 7,
    "start_time": "2022-05-01T15:02:08.878Z"
   },
   {
    "duration": 5,
    "start_time": "2022-05-01T15:02:08.887Z"
   },
   {
    "duration": 20,
    "start_time": "2022-05-01T15:02:08.895Z"
   },
   {
    "duration": 14,
    "start_time": "2022-05-01T15:02:08.918Z"
   },
   {
    "duration": 42,
    "start_time": "2022-05-01T15:02:08.934Z"
   },
   {
    "duration": 14,
    "start_time": "2022-05-01T15:02:08.978Z"
   },
   {
    "duration": 4944,
    "start_time": "2022-05-01T15:02:08.994Z"
   },
   {
    "duration": 7331,
    "start_time": "2022-05-01T15:02:13.940Z"
   },
   {
    "duration": 152,
    "start_time": "2022-05-01T15:02:21.273Z"
   },
   {
    "duration": 146,
    "start_time": "2022-05-01T15:02:21.427Z"
   },
   {
    "duration": 407,
    "start_time": "2022-05-01T15:02:21.576Z"
   },
   {
    "duration": 133,
    "start_time": "2022-05-01T15:02:21.984Z"
   },
   {
    "duration": 5,
    "start_time": "2022-05-01T15:02:22.119Z"
   },
   {
    "duration": 3779,
    "start_time": "2022-05-01T15:02:22.126Z"
   },
   {
    "duration": 1092,
    "start_time": "2022-05-01T15:02:25.907Z"
   },
   {
    "duration": 203,
    "start_time": "2022-05-01T15:02:27.001Z"
   },
   {
    "duration": 183,
    "start_time": "2022-05-01T15:02:27.206Z"
   },
   {
    "duration": 141,
    "start_time": "2022-05-01T15:02:27.392Z"
   },
   {
    "duration": 2575,
    "start_time": "2022-05-01T15:02:27.535Z"
   },
   {
    "duration": 11007,
    "start_time": "2022-05-01T15:02:30.174Z"
   },
   {
    "duration": 211,
    "start_time": "2022-05-01T15:02:41.183Z"
   },
   {
    "duration": 426,
    "start_time": "2022-05-01T15:02:41.397Z"
   },
   {
    "duration": 202,
    "start_time": "2022-05-01T15:02:41.825Z"
   },
   {
    "duration": 292,
    "start_time": "2022-05-01T15:02:42.030Z"
   },
   {
    "duration": 342,
    "start_time": "2022-05-01T15:02:42.324Z"
   },
   {
    "duration": 0,
    "start_time": "2022-05-01T15:02:42.668Z"
   },
   {
    "duration": 300,
    "start_time": "2022-05-01T15:03:19.059Z"
   },
   {
    "duration": 10,
    "start_time": "2022-05-01T15:03:22.244Z"
   },
   {
    "duration": 7,
    "start_time": "2022-05-01T15:03:31.050Z"
   },
   {
    "duration": 4686,
    "start_time": "2022-05-01T15:08:34.749Z"
   },
   {
    "duration": 123,
    "start_time": "2022-05-01T15:08:41.258Z"
   },
   {
    "duration": 125,
    "start_time": "2022-05-01T15:09:33.472Z"
   },
   {
    "duration": 7211,
    "start_time": "2022-05-01T15:09:39.224Z"
   },
   {
    "duration": 132,
    "start_time": "2022-05-01T15:09:46.437Z"
   },
   {
    "duration": 3637,
    "start_time": "2022-05-01T15:10:36.198Z"
   },
   {
    "duration": 1046,
    "start_time": "2022-05-01T15:11:09.405Z"
   },
   {
    "duration": 2456,
    "start_time": "2022-05-01T15:17:00.418Z"
   },
   {
    "duration": 2514,
    "start_time": "2022-05-01T15:17:22.460Z"
   },
   {
    "duration": 2463,
    "start_time": "2022-05-01T15:18:08.311Z"
   },
   {
    "duration": 2476,
    "start_time": "2022-05-01T15:18:23.299Z"
   },
   {
    "duration": 2519,
    "start_time": "2022-05-01T15:18:32.955Z"
   },
   {
    "duration": 10503,
    "start_time": "2022-05-01T15:19:26.784Z"
   },
   {
    "duration": 10603,
    "start_time": "2022-05-01T15:19:45.879Z"
   },
   {
    "duration": 351,
    "start_time": "2022-05-01T15:22:25.357Z"
   },
   {
    "duration": 362,
    "start_time": "2022-05-01T15:22:58.237Z"
   },
   {
    "duration": 11,
    "start_time": "2022-05-01T15:28:35.378Z"
   },
   {
    "duration": 8,
    "start_time": "2022-05-01T15:29:31.187Z"
   },
   {
    "duration": 289,
    "start_time": "2022-05-01T15:30:02.500Z"
   },
   {
    "duration": 4,
    "start_time": "2022-05-01T15:35:14.426Z"
   },
   {
    "duration": 1403,
    "start_time": "2022-05-01T15:35:14.432Z"
   },
   {
    "duration": 77,
    "start_time": "2022-05-01T15:35:15.836Z"
   },
   {
    "duration": 16,
    "start_time": "2022-05-01T15:35:15.915Z"
   },
   {
    "duration": 7,
    "start_time": "2022-05-01T15:35:15.933Z"
   },
   {
    "duration": 12,
    "start_time": "2022-05-01T15:35:15.942Z"
   },
   {
    "duration": 5,
    "start_time": "2022-05-01T15:35:15.956Z"
   },
   {
    "duration": 4,
    "start_time": "2022-05-01T15:35:15.963Z"
   },
   {
    "duration": 20,
    "start_time": "2022-05-01T15:35:15.973Z"
   },
   {
    "duration": 11,
    "start_time": "2022-05-01T15:35:15.995Z"
   },
   {
    "duration": 5,
    "start_time": "2022-05-01T15:35:16.009Z"
   },
   {
    "duration": 10,
    "start_time": "2022-05-01T15:35:16.016Z"
   },
   {
    "duration": 4590,
    "start_time": "2022-05-01T15:35:16.029Z"
   },
   {
    "duration": 134,
    "start_time": "2022-05-01T15:35:20.621Z"
   },
   {
    "duration": 7231,
    "start_time": "2022-05-01T15:35:20.757Z"
   },
   {
    "duration": 136,
    "start_time": "2022-05-01T15:35:27.990Z"
   },
   {
    "duration": 146,
    "start_time": "2022-05-01T15:35:28.128Z"
   },
   {
    "duration": 400,
    "start_time": "2022-05-01T15:35:28.276Z"
   },
   {
    "duration": 126,
    "start_time": "2022-05-01T15:35:28.678Z"
   },
   {
    "duration": 6,
    "start_time": "2022-05-01T15:35:28.805Z"
   },
   {
    "duration": 3535,
    "start_time": "2022-05-01T15:35:28.812Z"
   },
   {
    "duration": 1029,
    "start_time": "2022-05-01T15:35:32.348Z"
   },
   {
    "duration": 198,
    "start_time": "2022-05-01T15:35:33.379Z"
   },
   {
    "duration": 180,
    "start_time": "2022-05-01T15:35:33.579Z"
   },
   {
    "duration": 132,
    "start_time": "2022-05-01T15:35:33.761Z"
   },
   {
    "duration": 2579,
    "start_time": "2022-05-01T15:35:33.895Z"
   },
   {
    "duration": 10108,
    "start_time": "2022-05-01T15:35:36.477Z"
   },
   {
    "duration": 193,
    "start_time": "2022-05-01T15:35:46.680Z"
   },
   {
    "duration": 427,
    "start_time": "2022-05-01T15:35:46.883Z"
   },
   {
    "duration": 8,
    "start_time": "2022-05-01T15:35:47.312Z"
   },
   {
    "duration": 354,
    "start_time": "2022-05-01T15:35:47.322Z"
   },
   {
    "duration": 285,
    "start_time": "2022-05-01T15:35:47.678Z"
   },
   {
    "duration": 7,
    "start_time": "2022-05-01T15:35:47.972Z"
   },
   {
    "duration": 4492,
    "start_time": "2022-05-01T15:39:54.433Z"
   },
   {
    "duration": 4656,
    "start_time": "2022-05-01T15:40:26.073Z"
   },
   {
    "duration": 133,
    "start_time": "2022-05-01T15:40:44.968Z"
   },
   {
    "duration": 119,
    "start_time": "2022-05-01T15:42:25.852Z"
   },
   {
    "duration": 7197,
    "start_time": "2022-05-01T15:42:30.913Z"
   },
   {
    "duration": 130,
    "start_time": "2022-05-01T15:42:40.894Z"
   },
   {
    "duration": 27,
    "start_time": "2022-05-01T15:42:50.967Z"
   },
   {
    "duration": 250,
    "start_time": "2022-05-01T15:43:04.829Z"
   },
   {
    "duration": 95,
    "start_time": "2022-05-01T15:43:25.883Z"
   },
   {
    "duration": 236,
    "start_time": "2022-05-01T15:43:27.637Z"
   },
   {
    "duration": 3115,
    "start_time": "2022-05-01T15:49:37.523Z"
   },
   {
    "duration": 61493,
    "start_time": "2022-05-01T15:50:22.785Z"
   },
   {
    "duration": 12861,
    "start_time": "2022-05-01T15:51:59.349Z"
   },
   {
    "duration": 6011,
    "start_time": "2022-05-01T15:52:31.744Z"
   },
   {
    "duration": 4014,
    "start_time": "2022-05-01T15:53:29.310Z"
   },
   {
    "duration": 3553,
    "start_time": "2022-05-01T15:53:39.593Z"
   },
   {
    "duration": 3326,
    "start_time": "2022-05-01T15:53:50.066Z"
   },
   {
    "duration": 3283,
    "start_time": "2022-05-01T15:54:00.934Z"
   },
   {
    "duration": 2384,
    "start_time": "2022-05-01T15:54:11.102Z"
   },
   {
    "duration": 39394,
    "start_time": "2022-05-01T15:54:40.619Z"
   },
   {
    "duration": 19924,
    "start_time": "2022-05-01T15:55:48.440Z"
   },
   {
    "duration": 173,
    "start_time": "2022-05-01T15:57:01.453Z"
   },
   {
    "duration": 194,
    "start_time": "2022-05-01T15:57:25.253Z"
   },
   {
    "duration": 199,
    "start_time": "2022-05-01T15:57:32.282Z"
   },
   {
    "duration": 3612,
    "start_time": "2022-05-01T15:58:35.188Z"
   },
   {
    "duration": 2398,
    "start_time": "2022-05-01T15:58:45.540Z"
   },
   {
    "duration": 1768,
    "start_time": "2022-05-01T15:58:55.050Z"
   },
   {
    "duration": 160,
    "start_time": "2022-05-01T15:59:12.455Z"
   },
   {
    "duration": 171,
    "start_time": "2022-05-01T15:59:26.138Z"
   },
   {
    "duration": 24048,
    "start_time": "2022-05-01T16:00:54.104Z"
   },
   {
    "duration": 12568,
    "start_time": "2022-05-01T16:01:23.602Z"
   },
   {
    "duration": 225,
    "start_time": "2022-05-01T16:01:43.679Z"
   },
   {
    "duration": 179,
    "start_time": "2022-05-01T16:01:51.598Z"
   },
   {
    "duration": 164,
    "start_time": "2022-05-01T16:02:12.175Z"
   },
   {
    "duration": 171,
    "start_time": "2022-05-01T16:02:20.012Z"
   },
   {
    "duration": 164,
    "start_time": "2022-05-01T16:02:27.828Z"
   },
   {
    "duration": 168,
    "start_time": "2022-05-01T16:02:33.266Z"
   },
   {
    "duration": 170,
    "start_time": "2022-05-01T16:02:37.802Z"
   },
   {
    "duration": 162,
    "start_time": "2022-05-01T16:02:48.606Z"
   },
   {
    "duration": 175,
    "start_time": "2022-05-01T16:02:53.673Z"
   },
   {
    "duration": 11911,
    "start_time": "2022-05-01T16:04:25.668Z"
   },
   {
    "duration": 165,
    "start_time": "2022-05-01T16:05:00.478Z"
   },
   {
    "duration": 7962,
    "start_time": "2022-05-01T16:05:10.604Z"
   },
   {
    "duration": 155,
    "start_time": "2022-05-01T16:05:26.377Z"
   },
   {
    "duration": 6022,
    "start_time": "2022-05-01T16:05:36.943Z"
   },
   {
    "duration": 181,
    "start_time": "2022-05-01T16:05:54.748Z"
   },
   {
    "duration": 161,
    "start_time": "2022-05-01T16:06:08.037Z"
   },
   {
    "duration": 5974,
    "start_time": "2022-05-01T16:07:10.069Z"
   },
   {
    "duration": 191,
    "start_time": "2022-05-01T16:07:18.947Z"
   },
   {
    "duration": 180,
    "start_time": "2022-05-01T16:07:46.764Z"
   },
   {
    "duration": 3498,
    "start_time": "2022-05-01T16:08:13.525Z"
   },
   {
    "duration": 5997,
    "start_time": "2022-05-01T16:08:18.624Z"
   },
   {
    "duration": 187,
    "start_time": "2022-05-01T16:08:34.556Z"
   },
   {
    "duration": 213,
    "start_time": "2022-05-01T16:10:41.674Z"
   },
   {
    "duration": 163,
    "start_time": "2022-05-01T16:10:43.927Z"
   },
   {
    "duration": 147,
    "start_time": "2022-05-01T16:11:28.847Z"
   },
   {
    "duration": 19,
    "start_time": "2022-05-01T16:13:33.816Z"
   },
   {
    "duration": 133,
    "start_time": "2022-05-01T16:14:29.760Z"
   },
   {
    "duration": 1934,
    "start_time": "2022-05-01T16:15:10.541Z"
   },
   {
    "duration": 2481,
    "start_time": "2022-05-01T16:15:25.596Z"
   },
   {
    "duration": 1975,
    "start_time": "2022-05-01T16:15:32.711Z"
   },
   {
    "duration": 33,
    "start_time": "2022-05-01T16:16:21.425Z"
   },
   {
    "duration": 325,
    "start_time": "2022-05-01T16:17:45.391Z"
   },
   {
    "duration": 232,
    "start_time": "2022-05-01T16:17:58.455Z"
   },
   {
    "duration": 14,
    "start_time": "2022-05-01T16:19:10.170Z"
   },
   {
    "duration": 318,
    "start_time": "2022-05-01T16:19:38.071Z"
   },
   {
    "duration": 3,
    "start_time": "2022-05-01T16:20:06.586Z"
   },
   {
    "duration": 2945,
    "start_time": "2022-05-01T16:20:06.591Z"
   },
   {
    "duration": 105,
    "start_time": "2022-05-01T16:20:09.538Z"
   },
   {
    "duration": 17,
    "start_time": "2022-05-01T16:20:09.645Z"
   },
   {
    "duration": 7,
    "start_time": "2022-05-01T16:20:09.663Z"
   },
   {
    "duration": 14,
    "start_time": "2022-05-01T16:20:09.671Z"
   },
   {
    "duration": 8,
    "start_time": "2022-05-01T16:20:09.687Z"
   },
   {
    "duration": 4,
    "start_time": "2022-05-01T16:20:09.696Z"
   },
   {
    "duration": 20,
    "start_time": "2022-05-01T16:20:09.701Z"
   },
   {
    "duration": 12,
    "start_time": "2022-05-01T16:20:09.722Z"
   },
   {
    "duration": 4,
    "start_time": "2022-05-01T16:20:09.737Z"
   },
   {
    "duration": 31,
    "start_time": "2022-05-01T16:20:09.743Z"
   },
   {
    "duration": 4670,
    "start_time": "2022-05-01T16:20:09.776Z"
   },
   {
    "duration": 148,
    "start_time": "2022-05-01T16:20:14.447Z"
   },
   {
    "duration": 7090,
    "start_time": "2022-05-01T16:20:14.597Z"
   },
   {
    "duration": 134,
    "start_time": "2022-05-01T16:20:21.688Z"
   },
   {
    "duration": 150,
    "start_time": "2022-05-01T16:20:21.823Z"
   },
   {
    "duration": 317,
    "start_time": "2022-05-01T16:20:21.976Z"
   },
   {
    "duration": 139,
    "start_time": "2022-05-01T16:20:22.295Z"
   },
   {
    "duration": 6,
    "start_time": "2022-05-01T16:20:22.436Z"
   },
   {
    "duration": 3641,
    "start_time": "2022-05-01T16:20:22.443Z"
   },
   {
    "duration": 5975,
    "start_time": "2022-05-01T16:20:26.085Z"
   },
   {
    "duration": 193,
    "start_time": "2022-05-01T16:20:32.062Z"
   },
   {
    "duration": 156,
    "start_time": "2022-05-01T16:20:32.257Z"
   },
   {
    "duration": 18,
    "start_time": "2022-05-01T16:20:32.414Z"
   },
   {
    "duration": 231,
    "start_time": "2022-05-01T16:20:32.434Z"
   },
   {
    "duration": 2509,
    "start_time": "2022-05-01T16:20:32.667Z"
   },
   {
    "duration": 2008,
    "start_time": "2022-05-01T16:20:35.178Z"
   },
   {
    "duration": 209,
    "start_time": "2022-05-01T16:20:37.190Z"
   },
   {
    "duration": 315,
    "start_time": "2022-05-01T16:20:37.474Z"
   },
   {
    "duration": 9,
    "start_time": "2022-05-01T16:20:37.791Z"
   },
   {
    "duration": 409,
    "start_time": "2022-05-01T16:20:37.875Z"
   },
   {
    "duration": 306,
    "start_time": "2022-05-01T16:20:38.285Z"
   },
   {
    "duration": 6,
    "start_time": "2022-05-01T16:20:38.593Z"
   },
   {
    "duration": 4,
    "start_time": "2022-05-01T16:52:49.932Z"
   },
   {
    "duration": 1462,
    "start_time": "2022-05-01T16:52:49.938Z"
   },
   {
    "duration": 82,
    "start_time": "2022-05-01T16:52:51.402Z"
   },
   {
    "duration": 13,
    "start_time": "2022-05-01T16:52:51.485Z"
   },
   {
    "duration": 6,
    "start_time": "2022-05-01T16:52:51.501Z"
   },
   {
    "duration": 9,
    "start_time": "2022-05-01T16:52:51.508Z"
   },
   {
    "duration": 6,
    "start_time": "2022-05-01T16:52:51.519Z"
   },
   {
    "duration": 3,
    "start_time": "2022-05-01T16:52:51.527Z"
   },
   {
    "duration": 50,
    "start_time": "2022-05-01T16:52:51.531Z"
   },
   {
    "duration": 11,
    "start_time": "2022-05-01T16:52:51.583Z"
   },
   {
    "duration": 5,
    "start_time": "2022-05-01T16:52:51.596Z"
   },
   {
    "duration": 14,
    "start_time": "2022-05-01T16:52:51.602Z"
   },
   {
    "duration": 4507,
    "start_time": "2022-05-01T16:52:51.617Z"
   },
   {
    "duration": 139,
    "start_time": "2022-05-01T16:52:56.125Z"
   },
   {
    "duration": 7103,
    "start_time": "2022-05-01T16:52:56.274Z"
   },
   {
    "duration": 137,
    "start_time": "2022-05-01T16:53:03.379Z"
   },
   {
    "duration": 62,
    "start_time": "2022-05-01T16:53:03.518Z"
   },
   {
    "duration": 406,
    "start_time": "2022-05-01T16:53:03.582Z"
   },
   {
    "duration": 133,
    "start_time": "2022-05-01T16:53:03.990Z"
   },
   {
    "duration": 6,
    "start_time": "2022-05-01T16:53:04.125Z"
   },
   {
    "duration": 3555,
    "start_time": "2022-05-01T16:53:04.134Z"
   },
   {
    "duration": 5896,
    "start_time": "2022-05-01T16:53:07.691Z"
   },
   {
    "duration": 187,
    "start_time": "2022-05-01T16:53:13.589Z"
   },
   {
    "duration": 155,
    "start_time": "2022-05-01T16:53:13.777Z"
   },
   {
    "duration": 18,
    "start_time": "2022-05-01T16:53:13.934Z"
   },
   {
    "duration": 222,
    "start_time": "2022-05-01T16:53:13.953Z"
   },
   {
    "duration": 2497,
    "start_time": "2022-05-01T16:53:14.177Z"
   },
   {
    "duration": 2007,
    "start_time": "2022-05-01T16:53:16.676Z"
   },
   {
    "duration": 205,
    "start_time": "2022-05-01T16:53:18.686Z"
   },
   {
    "duration": 318,
    "start_time": "2022-05-01T16:53:18.973Z"
   },
   {
    "duration": 8,
    "start_time": "2022-05-01T16:53:19.293Z"
   },
   {
    "duration": 408,
    "start_time": "2022-05-01T16:53:19.373Z"
   },
   {
    "duration": 315,
    "start_time": "2022-05-01T16:53:19.782Z"
   },
   {
    "duration": 6,
    "start_time": "2022-05-01T16:53:20.099Z"
   },
   {
    "duration": 4605,
    "start_time": "2022-05-01T16:56:30.919Z"
   },
   {
    "duration": 4521,
    "start_time": "2022-05-01T16:57:18.987Z"
   },
   {
    "duration": 124,
    "start_time": "2022-05-01T16:57:35.973Z"
   },
   {
    "duration": 7173,
    "start_time": "2022-05-01T16:58:20.655Z"
   },
   {
    "duration": 125,
    "start_time": "2022-05-01T16:58:52.763Z"
   },
   {
    "duration": 140,
    "start_time": "2022-05-01T17:00:02.382Z"
   },
   {
    "duration": 48,
    "start_time": "2022-05-01T17:00:06.826Z"
   },
   {
    "duration": 253,
    "start_time": "2022-05-01T17:00:09.036Z"
   },
   {
    "duration": 13,
    "start_time": "2022-05-01T17:03:36.416Z"
   },
   {
    "duration": 160,
    "start_time": "2022-05-01T17:03:44.325Z"
   },
   {
    "duration": 20,
    "start_time": "2022-05-01T17:03:46.353Z"
   },
   {
    "duration": 131,
    "start_time": "2022-05-01T17:04:40.101Z"
   },
   {
    "duration": 2477,
    "start_time": "2022-05-01T17:04:53.203Z"
   },
   {
    "duration": 2117,
    "start_time": "2022-05-01T17:05:01.165Z"
   },
   {
    "duration": 314,
    "start_time": "2022-05-01T17:10:06.865Z"
   },
   {
    "duration": 573,
    "start_time": "2022-05-01T17:29:50.107Z"
   },
   {
    "duration": 533,
    "start_time": "2022-05-01T17:32:31.649Z"
   },
   {
    "duration": 671,
    "start_time": "2022-05-01T17:33:37.012Z"
   },
   {
    "duration": 4,
    "start_time": "2022-05-01T17:35:57.648Z"
   },
   {
    "duration": 1427,
    "start_time": "2022-05-01T17:35:57.653Z"
   },
   {
    "duration": 82,
    "start_time": "2022-05-01T17:35:59.082Z"
   },
   {
    "duration": 12,
    "start_time": "2022-05-01T17:35:59.166Z"
   },
   {
    "duration": 5,
    "start_time": "2022-05-01T17:35:59.180Z"
   },
   {
    "duration": 10,
    "start_time": "2022-05-01T17:35:59.188Z"
   },
   {
    "duration": 5,
    "start_time": "2022-05-01T17:35:59.199Z"
   },
   {
    "duration": 4,
    "start_time": "2022-05-01T17:35:59.206Z"
   },
   {
    "duration": 18,
    "start_time": "2022-05-01T17:35:59.211Z"
   },
   {
    "duration": 11,
    "start_time": "2022-05-01T17:35:59.231Z"
   },
   {
    "duration": 30,
    "start_time": "2022-05-01T17:35:59.244Z"
   },
   {
    "duration": 8,
    "start_time": "2022-05-01T17:35:59.276Z"
   },
   {
    "duration": 4590,
    "start_time": "2022-05-01T17:35:59.285Z"
   },
   {
    "duration": 138,
    "start_time": "2022-05-01T17:36:03.876Z"
   },
   {
    "duration": 6863,
    "start_time": "2022-05-01T17:36:04.017Z"
   },
   {
    "duration": 132,
    "start_time": "2022-05-01T17:36:10.882Z"
   },
   {
    "duration": 65,
    "start_time": "2022-05-01T17:36:11.016Z"
   },
   {
    "duration": 314,
    "start_time": "2022-05-01T17:36:11.172Z"
   },
   {
    "duration": 124,
    "start_time": "2022-05-01T17:36:11.487Z"
   },
   {
    "duration": 5,
    "start_time": "2022-05-01T17:36:11.613Z"
   },
   {
    "duration": 3493,
    "start_time": "2022-05-01T17:36:11.619Z"
   },
   {
    "duration": 6084,
    "start_time": "2022-05-01T17:36:15.114Z"
   },
   {
    "duration": 178,
    "start_time": "2022-05-01T17:36:21.200Z"
   },
   {
    "duration": 151,
    "start_time": "2022-05-01T17:36:21.380Z"
   },
   {
    "duration": 19,
    "start_time": "2022-05-01T17:36:21.533Z"
   },
   {
    "duration": 238,
    "start_time": "2022-05-01T17:36:21.553Z"
   },
   {
    "duration": 2481,
    "start_time": "2022-05-01T17:36:21.793Z"
   },
   {
    "duration": 2110,
    "start_time": "2022-05-01T17:36:24.276Z"
   },
   {
    "duration": 201,
    "start_time": "2022-05-01T17:36:26.388Z"
   },
   {
    "duration": 398,
    "start_time": "2022-05-01T17:36:26.593Z"
   },
   {
    "duration": 8,
    "start_time": "2022-05-01T17:36:26.992Z"
   },
   {
    "duration": 490,
    "start_time": "2022-05-01T17:36:27.003Z"
   },
   {
    "duration": 591,
    "start_time": "2022-05-01T17:36:27.494Z"
   },
   {
    "duration": 285,
    "start_time": "2022-05-01T17:44:47.713Z"
   },
   {
    "duration": 4626,
    "start_time": "2022-05-01T17:45:32.910Z"
   },
   {
    "duration": 141,
    "start_time": "2022-05-01T17:45:37.538Z"
   },
   {
    "duration": 7195,
    "start_time": "2022-05-01T17:45:37.681Z"
   },
   {
    "duration": 172,
    "start_time": "2022-05-01T17:45:44.879Z"
   },
   {
    "duration": 4,
    "start_time": "2022-05-01T17:51:25.495Z"
   },
   {
    "duration": 1746,
    "start_time": "2022-05-01T17:51:25.501Z"
   },
   {
    "duration": 80,
    "start_time": "2022-05-01T17:51:27.249Z"
   },
   {
    "duration": 14,
    "start_time": "2022-05-01T17:51:27.330Z"
   },
   {
    "duration": 6,
    "start_time": "2022-05-01T17:51:27.346Z"
   },
   {
    "duration": 11,
    "start_time": "2022-05-01T17:51:27.354Z"
   },
   {
    "duration": 7,
    "start_time": "2022-05-01T17:51:27.367Z"
   },
   {
    "duration": 14,
    "start_time": "2022-05-01T17:51:27.375Z"
   },
   {
    "duration": 20,
    "start_time": "2022-05-01T17:51:27.391Z"
   },
   {
    "duration": 11,
    "start_time": "2022-05-01T17:51:27.412Z"
   },
   {
    "duration": 3,
    "start_time": "2022-05-01T17:51:27.426Z"
   },
   {
    "duration": 10,
    "start_time": "2022-05-01T17:51:27.431Z"
   },
   {
    "duration": 4896,
    "start_time": "2022-05-01T17:51:27.443Z"
   },
   {
    "duration": 160,
    "start_time": "2022-05-01T17:51:32.341Z"
   },
   {
    "duration": 7363,
    "start_time": "2022-05-01T17:51:32.503Z"
   },
   {
    "duration": 155,
    "start_time": "2022-05-01T17:51:39.868Z"
   },
   {
    "duration": 62,
    "start_time": "2022-05-01T17:51:40.024Z"
   },
   {
    "duration": 389,
    "start_time": "2022-05-01T17:51:40.089Z"
   },
   {
    "duration": 141,
    "start_time": "2022-05-01T17:51:40.480Z"
   },
   {
    "duration": 5,
    "start_time": "2022-05-01T17:51:40.623Z"
   },
   {
    "duration": 3767,
    "start_time": "2022-05-01T17:51:40.630Z"
   },
   {
    "duration": 6305,
    "start_time": "2022-05-01T17:51:44.398Z"
   },
   {
    "duration": 198,
    "start_time": "2022-05-01T17:51:50.705Z"
   },
   {
    "duration": 162,
    "start_time": "2022-05-01T17:51:50.906Z"
   },
   {
    "duration": 22,
    "start_time": "2022-05-01T17:51:51.072Z"
   },
   {
    "duration": 231,
    "start_time": "2022-05-01T17:51:51.095Z"
   },
   {
    "duration": 2448,
    "start_time": "2022-05-01T17:51:51.328Z"
   },
   {
    "duration": 1796,
    "start_time": "2022-05-01T17:51:53.778Z"
   },
   {
    "duration": 127,
    "start_time": "2022-05-01T17:51:55.578Z"
   },
   {
    "duration": 317,
    "start_time": "2022-05-01T17:51:55.775Z"
   },
   {
    "duration": 10,
    "start_time": "2022-05-01T17:51:56.094Z"
   },
   {
    "duration": 399,
    "start_time": "2022-05-01T17:51:56.182Z"
   },
   {
    "duration": 579,
    "start_time": "2022-05-01T17:51:56.582Z"
   },
   {
    "duration": 152,
    "start_time": "2022-05-01T18:00:33.112Z"
   },
   {
    "duration": 140,
    "start_time": "2022-05-01T18:01:48.669Z"
   },
   {
    "duration": 3874,
    "start_time": "2022-05-01T18:01:58.090Z"
   },
   {
    "duration": 4,
    "start_time": "2022-05-01T18:02:10.663Z"
   },
   {
    "duration": 1422,
    "start_time": "2022-05-01T18:02:10.671Z"
   },
   {
    "duration": 76,
    "start_time": "2022-05-01T18:02:12.095Z"
   },
   {
    "duration": 14,
    "start_time": "2022-05-01T18:02:12.173Z"
   },
   {
    "duration": 7,
    "start_time": "2022-05-01T18:02:12.190Z"
   },
   {
    "duration": 10,
    "start_time": "2022-05-01T18:02:12.198Z"
   },
   {
    "duration": 7,
    "start_time": "2022-05-01T18:02:12.209Z"
   },
   {
    "duration": 4,
    "start_time": "2022-05-01T18:02:12.218Z"
   },
   {
    "duration": 52,
    "start_time": "2022-05-01T18:02:12.224Z"
   },
   {
    "duration": 12,
    "start_time": "2022-05-01T18:02:12.278Z"
   },
   {
    "duration": 5,
    "start_time": "2022-05-01T18:02:12.293Z"
   },
   {
    "duration": 9,
    "start_time": "2022-05-01T18:02:12.300Z"
   },
   {
    "duration": 4664,
    "start_time": "2022-05-01T18:02:12.310Z"
   },
   {
    "duration": 143,
    "start_time": "2022-05-01T18:02:16.976Z"
   },
   {
    "duration": 7270,
    "start_time": "2022-05-01T18:02:17.120Z"
   },
   {
    "duration": 172,
    "start_time": "2022-05-01T18:02:24.392Z"
   },
   {
    "duration": 102,
    "start_time": "2022-05-01T18:02:24.572Z"
   },
   {
    "duration": 397,
    "start_time": "2022-05-01T18:02:24.676Z"
   },
   {
    "duration": 129,
    "start_time": "2022-05-01T18:02:25.076Z"
   },
   {
    "duration": 6,
    "start_time": "2022-05-01T18:02:25.206Z"
   },
   {
    "duration": 3651,
    "start_time": "2022-05-01T18:02:25.214Z"
   },
   {
    "duration": 6108,
    "start_time": "2022-05-01T18:02:28.866Z"
   },
   {
    "duration": 197,
    "start_time": "2022-05-01T18:02:34.976Z"
   },
   {
    "duration": 158,
    "start_time": "2022-05-01T18:02:35.175Z"
   },
   {
    "duration": 18,
    "start_time": "2022-05-01T18:02:35.335Z"
   },
   {
    "duration": 237,
    "start_time": "2022-05-01T18:02:35.355Z"
   },
   {
    "duration": 2480,
    "start_time": "2022-05-01T18:02:35.594Z"
   },
   {
    "duration": 2106,
    "start_time": "2022-05-01T18:02:38.076Z"
   },
   {
    "duration": 205,
    "start_time": "2022-05-01T18:02:40.186Z"
   },
   {
    "duration": 400,
    "start_time": "2022-05-01T18:02:40.393Z"
   },
   {
    "duration": 10,
    "start_time": "2022-05-01T18:02:40.795Z"
   },
   {
    "duration": 404,
    "start_time": "2022-05-01T18:02:40.875Z"
   },
   {
    "duration": 508,
    "start_time": "2022-05-01T18:02:41.280Z"
   },
   {
    "duration": 543,
    "start_time": "2022-05-01T18:18:31.540Z"
   },
   {
    "duration": 578,
    "start_time": "2022-05-01T18:19:20.013Z"
   },
   {
    "duration": 4,
    "start_time": "2022-05-01T18:46:33.025Z"
   },
   {
    "duration": 1370,
    "start_time": "2022-05-01T18:46:33.031Z"
   },
   {
    "duration": 87,
    "start_time": "2022-05-01T18:46:34.403Z"
   },
   {
    "duration": 15,
    "start_time": "2022-05-01T18:46:34.492Z"
   },
   {
    "duration": 14,
    "start_time": "2022-05-01T18:46:34.509Z"
   },
   {
    "duration": 10,
    "start_time": "2022-05-01T18:46:34.525Z"
   },
   {
    "duration": 6,
    "start_time": "2022-05-01T18:46:34.537Z"
   },
   {
    "duration": 4,
    "start_time": "2022-05-01T18:46:34.545Z"
   },
   {
    "duration": 39,
    "start_time": "2022-05-01T18:46:34.550Z"
   },
   {
    "duration": 11,
    "start_time": "2022-05-01T18:46:34.591Z"
   },
   {
    "duration": 5,
    "start_time": "2022-05-01T18:46:34.606Z"
   },
   {
    "duration": 9,
    "start_time": "2022-05-01T18:46:34.613Z"
   },
   {
    "duration": 4788,
    "start_time": "2022-05-01T18:46:34.624Z"
   },
   {
    "duration": 152,
    "start_time": "2022-05-01T18:46:39.414Z"
   },
   {
    "duration": 7535,
    "start_time": "2022-05-01T18:46:39.573Z"
   },
   {
    "duration": 153,
    "start_time": "2022-05-01T18:46:47.110Z"
   },
   {
    "duration": 25,
    "start_time": "2022-05-01T18:46:47.273Z"
   },
   {
    "duration": 405,
    "start_time": "2022-05-01T18:46:47.299Z"
   },
   {
    "duration": 136,
    "start_time": "2022-05-01T18:46:47.706Z"
   },
   {
    "duration": 7,
    "start_time": "2022-05-01T18:46:47.844Z"
   },
   {
    "duration": 3778,
    "start_time": "2022-05-01T18:46:47.853Z"
   },
   {
    "duration": 6391,
    "start_time": "2022-05-01T18:46:51.633Z"
   },
   {
    "duration": 226,
    "start_time": "2022-05-01T18:46:58.026Z"
   },
   {
    "duration": 170,
    "start_time": "2022-05-01T18:46:58.254Z"
   },
   {
    "duration": 20,
    "start_time": "2022-05-01T18:46:58.426Z"
   },
   {
    "duration": 243,
    "start_time": "2022-05-01T18:46:58.448Z"
   },
   {
    "duration": 2415,
    "start_time": "2022-05-01T18:46:58.693Z"
   },
   {
    "duration": 1899,
    "start_time": "2022-05-01T18:47:01.175Z"
   },
   {
    "duration": 129,
    "start_time": "2022-05-01T18:47:03.080Z"
   },
   {
    "duration": 372,
    "start_time": "2022-05-01T18:47:03.212Z"
   },
   {
    "duration": 9,
    "start_time": "2022-05-01T18:47:03.586Z"
   },
   {
    "duration": 392,
    "start_time": "2022-05-01T18:47:03.598Z"
   },
   {
    "duration": 583,
    "start_time": "2022-05-01T18:47:03.992Z"
   },
   {
    "duration": 4,
    "start_time": "2022-05-01T19:01:29.120Z"
   },
   {
    "duration": 1432,
    "start_time": "2022-05-01T19:01:29.126Z"
   },
   {
    "duration": 88,
    "start_time": "2022-05-01T19:01:30.560Z"
   },
   {
    "duration": 16,
    "start_time": "2022-05-01T19:01:30.650Z"
   },
   {
    "duration": 14,
    "start_time": "2022-05-01T19:01:30.669Z"
   },
   {
    "duration": 29,
    "start_time": "2022-05-01T19:01:30.685Z"
   },
   {
    "duration": 13,
    "start_time": "2022-05-01T19:01:30.716Z"
   },
   {
    "duration": 19,
    "start_time": "2022-05-01T19:01:30.731Z"
   },
   {
    "duration": 40,
    "start_time": "2022-05-01T19:01:30.752Z"
   },
   {
    "duration": 16,
    "start_time": "2022-05-01T19:01:30.794Z"
   },
   {
    "duration": 25,
    "start_time": "2022-05-01T19:01:30.814Z"
   },
   {
    "duration": 17,
    "start_time": "2022-05-01T19:01:30.841Z"
   },
   {
    "duration": 4889,
    "start_time": "2022-05-01T19:01:30.860Z"
   },
   {
    "duration": 161,
    "start_time": "2022-05-01T19:01:35.751Z"
   },
   {
    "duration": 7707,
    "start_time": "2022-05-01T19:01:35.918Z"
   },
   {
    "duration": 168,
    "start_time": "2022-05-01T19:01:43.627Z"
   },
   {
    "duration": 82,
    "start_time": "2022-05-01T19:01:43.796Z"
   },
   {
    "duration": 406,
    "start_time": "2022-05-01T19:01:43.881Z"
   },
   {
    "duration": 143,
    "start_time": "2022-05-01T19:01:44.288Z"
   },
   {
    "duration": 6,
    "start_time": "2022-05-01T19:01:44.433Z"
   },
   {
    "duration": 3882,
    "start_time": "2022-05-01T19:01:44.441Z"
   },
   {
    "duration": 6365,
    "start_time": "2022-05-01T19:01:48.326Z"
   },
   {
    "duration": 200,
    "start_time": "2022-05-01T19:01:54.693Z"
   },
   {
    "duration": 174,
    "start_time": "2022-05-01T19:01:54.895Z"
   },
   {
    "duration": 19,
    "start_time": "2022-05-01T19:01:55.071Z"
   },
   {
    "duration": 237,
    "start_time": "2022-05-01T19:01:55.092Z"
   },
   {
    "duration": 2471,
    "start_time": "2022-05-01T19:01:55.331Z"
   },
   {
    "duration": 1881,
    "start_time": "2022-05-01T19:01:57.805Z"
   },
   {
    "duration": 203,
    "start_time": "2022-05-01T19:01:59.690Z"
   },
   {
    "duration": 387,
    "start_time": "2022-05-01T19:01:59.895Z"
   },
   {
    "duration": 11,
    "start_time": "2022-05-01T19:02:00.285Z"
   },
   {
    "duration": 487,
    "start_time": "2022-05-01T19:02:00.298Z"
   },
   {
    "duration": 638,
    "start_time": "2022-05-01T19:02:00.787Z"
   },
   {
    "duration": 4,
    "start_time": "2022-05-01T19:26:20.351Z"
   },
   {
    "duration": 1450,
    "start_time": "2022-05-01T19:26:20.357Z"
   },
   {
    "duration": 77,
    "start_time": "2022-05-01T19:26:21.809Z"
   },
   {
    "duration": 13,
    "start_time": "2022-05-01T19:26:21.888Z"
   },
   {
    "duration": 10,
    "start_time": "2022-05-01T19:26:21.903Z"
   },
   {
    "duration": 8,
    "start_time": "2022-05-01T19:26:21.915Z"
   },
   {
    "duration": 7,
    "start_time": "2022-05-01T19:26:21.925Z"
   },
   {
    "duration": 4,
    "start_time": "2022-05-01T19:26:21.933Z"
   },
   {
    "duration": 43,
    "start_time": "2022-05-01T19:26:21.939Z"
   },
   {
    "duration": 11,
    "start_time": "2022-05-01T19:26:21.984Z"
   },
   {
    "duration": 4,
    "start_time": "2022-05-01T19:26:21.998Z"
   },
   {
    "duration": 10,
    "start_time": "2022-05-01T19:26:22.004Z"
   },
   {
    "duration": 4880,
    "start_time": "2022-05-01T19:26:22.016Z"
   },
   {
    "duration": 156,
    "start_time": "2022-05-01T19:26:26.897Z"
   },
   {
    "duration": 7439,
    "start_time": "2022-05-01T19:26:27.055Z"
   },
   {
    "duration": 154,
    "start_time": "2022-05-01T19:26:34.496Z"
   },
   {
    "duration": 125,
    "start_time": "2022-05-01T19:26:34.652Z"
   },
   {
    "duration": 407,
    "start_time": "2022-05-01T19:26:34.780Z"
   },
   {
    "duration": 138,
    "start_time": "2022-05-01T19:26:35.189Z"
   },
   {
    "duration": 6,
    "start_time": "2022-05-01T19:26:35.328Z"
   },
   {
    "duration": 3690,
    "start_time": "2022-05-01T19:26:35.336Z"
   },
   {
    "duration": 6081,
    "start_time": "2022-05-01T19:26:39.028Z"
   },
   {
    "duration": 200,
    "start_time": "2022-05-01T19:26:45.110Z"
   },
   {
    "duration": 157,
    "start_time": "2022-05-01T19:26:45.311Z"
   },
   {
    "duration": 19,
    "start_time": "2022-05-01T19:26:45.470Z"
   },
   {
    "duration": 238,
    "start_time": "2022-05-01T19:26:45.490Z"
   },
   {
    "duration": 2383,
    "start_time": "2022-05-01T19:26:45.729Z"
   },
   {
    "duration": 2111,
    "start_time": "2022-05-01T19:26:48.176Z"
   },
   {
    "duration": 199,
    "start_time": "2022-05-01T19:26:50.292Z"
   },
   {
    "duration": 389,
    "start_time": "2022-05-01T19:26:50.493Z"
   },
   {
    "duration": 10,
    "start_time": "2022-05-01T19:26:50.883Z"
   },
   {
    "duration": 378,
    "start_time": "2022-05-01T19:26:50.895Z"
   },
   {
    "duration": 104,
    "start_time": "2022-05-01T19:26:51.275Z"
   },
   {
    "duration": 0,
    "start_time": "2022-05-01T19:26:51.380Z"
   },
   {
    "duration": 571,
    "start_time": "2022-05-01T19:27:05.314Z"
   },
   {
    "duration": 4,
    "start_time": "2022-05-01T19:27:19.402Z"
   },
   {
    "duration": 1404,
    "start_time": "2022-05-01T19:27:19.408Z"
   },
   {
    "duration": 349,
    "start_time": "2022-05-01T19:27:20.814Z"
   },
   {
    "duration": 16,
    "start_time": "2022-05-01T19:27:21.165Z"
   },
   {
    "duration": 6,
    "start_time": "2022-05-01T19:27:21.183Z"
   },
   {
    "duration": 9,
    "start_time": "2022-05-01T19:27:21.191Z"
   },
   {
    "duration": 7,
    "start_time": "2022-05-01T19:27:21.201Z"
   },
   {
    "duration": 4,
    "start_time": "2022-05-01T19:27:21.209Z"
   },
   {
    "duration": 21,
    "start_time": "2022-05-01T19:27:21.214Z"
   },
   {
    "duration": 37,
    "start_time": "2022-05-01T19:27:21.237Z"
   },
   {
    "duration": 5,
    "start_time": "2022-05-01T19:27:21.277Z"
   },
   {
    "duration": 11,
    "start_time": "2022-05-01T19:27:21.283Z"
   },
   {
    "duration": 4810,
    "start_time": "2022-05-01T19:27:21.296Z"
   },
   {
    "duration": 200,
    "start_time": "2022-05-01T19:27:26.108Z"
   },
   {
    "duration": 7271,
    "start_time": "2022-05-01T19:27:26.310Z"
   },
   {
    "duration": 157,
    "start_time": "2022-05-01T19:27:33.582Z"
   },
   {
    "duration": 35,
    "start_time": "2022-05-01T19:27:33.741Z"
   },
   {
    "duration": 415,
    "start_time": "2022-05-01T19:27:33.779Z"
   },
   {
    "duration": 128,
    "start_time": "2022-05-01T19:27:34.196Z"
   },
   {
    "duration": 6,
    "start_time": "2022-05-01T19:27:34.326Z"
   },
   {
    "duration": 3585,
    "start_time": "2022-05-01T19:27:34.334Z"
   },
   {
    "duration": 6205,
    "start_time": "2022-05-01T19:27:37.922Z"
   },
   {
    "duration": 192,
    "start_time": "2022-05-01T19:27:44.128Z"
   },
   {
    "duration": 152,
    "start_time": "2022-05-01T19:27:44.322Z"
   },
   {
    "duration": 19,
    "start_time": "2022-05-01T19:27:44.476Z"
   },
   {
    "duration": 233,
    "start_time": "2022-05-01T19:27:44.496Z"
   },
   {
    "duration": 2375,
    "start_time": "2022-05-01T19:27:44.731Z"
   },
   {
    "duration": 2075,
    "start_time": "2022-05-01T19:27:47.108Z"
   },
   {
    "duration": 287,
    "start_time": "2022-05-01T19:27:49.188Z"
   },
   {
    "duration": 309,
    "start_time": "2022-05-01T19:27:49.477Z"
   },
   {
    "duration": 11,
    "start_time": "2022-05-01T19:27:49.788Z"
   },
   {
    "duration": 313,
    "start_time": "2022-05-01T19:27:49.874Z"
   },
   {
    "duration": 549,
    "start_time": "2022-05-01T19:27:50.189Z"
   },
   {
    "duration": 5,
    "start_time": "2022-05-01T20:08:03.759Z"
   },
   {
    "duration": 1437,
    "start_time": "2022-05-01T20:08:03.767Z"
   },
   {
    "duration": 88,
    "start_time": "2022-05-01T20:08:05.206Z"
   },
   {
    "duration": 14,
    "start_time": "2022-05-01T20:08:05.296Z"
   },
   {
    "duration": 16,
    "start_time": "2022-05-01T20:08:05.312Z"
   },
   {
    "duration": 9,
    "start_time": "2022-05-01T20:08:05.330Z"
   },
   {
    "duration": 6,
    "start_time": "2022-05-01T20:08:05.341Z"
   },
   {
    "duration": 31,
    "start_time": "2022-05-01T20:08:05.349Z"
   },
   {
    "duration": 19,
    "start_time": "2022-05-01T20:08:05.384Z"
   },
   {
    "duration": 12,
    "start_time": "2022-05-01T20:08:05.405Z"
   },
   {
    "duration": 6,
    "start_time": "2022-05-01T20:08:05.419Z"
   },
   {
    "duration": 11,
    "start_time": "2022-05-01T20:08:05.427Z"
   },
   {
    "duration": 4740,
    "start_time": "2022-05-01T20:08:05.439Z"
   },
   {
    "duration": 155,
    "start_time": "2022-05-01T20:08:10.181Z"
   },
   {
    "duration": 7181,
    "start_time": "2022-05-01T20:08:10.338Z"
   },
   {
    "duration": 167,
    "start_time": "2022-05-01T20:08:17.521Z"
   },
   {
    "duration": 99,
    "start_time": "2022-05-01T20:08:17.690Z"
   },
   {
    "duration": 301,
    "start_time": "2022-05-01T20:08:17.872Z"
   },
   {
    "duration": 129,
    "start_time": "2022-05-01T20:08:18.175Z"
   },
   {
    "duration": 6,
    "start_time": "2022-05-01T20:08:18.306Z"
   },
   {
    "duration": 3675,
    "start_time": "2022-05-01T20:08:18.314Z"
   },
   {
    "duration": 6249,
    "start_time": "2022-05-01T20:08:21.991Z"
   },
   {
    "duration": 196,
    "start_time": "2022-05-01T20:08:28.242Z"
   },
   {
    "duration": 158,
    "start_time": "2022-05-01T20:08:28.441Z"
   },
   {
    "duration": 19,
    "start_time": "2022-05-01T20:08:28.600Z"
   },
   {
    "duration": 253,
    "start_time": "2022-05-01T20:08:28.621Z"
   },
   {
    "duration": 2425,
    "start_time": "2022-05-01T20:08:28.876Z"
   },
   {
    "duration": 1774,
    "start_time": "2022-05-01T20:08:31.304Z"
   },
   {
    "duration": 206,
    "start_time": "2022-05-01T20:08:33.080Z"
   },
   {
    "duration": 389,
    "start_time": "2022-05-01T20:08:33.291Z"
   },
   {
    "duration": 9,
    "start_time": "2022-05-01T20:08:33.681Z"
   },
   {
    "duration": 388,
    "start_time": "2022-05-01T20:08:33.692Z"
   },
   {
    "duration": 593,
    "start_time": "2022-05-01T20:08:34.082Z"
   },
   {
    "duration": 4,
    "start_time": "2022-05-01T20:18:49.931Z"
   },
   {
    "duration": 1461,
    "start_time": "2022-05-01T20:18:49.938Z"
   },
   {
    "duration": 82,
    "start_time": "2022-05-01T20:18:51.401Z"
   },
   {
    "duration": 14,
    "start_time": "2022-05-01T20:18:51.485Z"
   },
   {
    "duration": 11,
    "start_time": "2022-05-01T20:18:51.501Z"
   },
   {
    "duration": 9,
    "start_time": "2022-05-01T20:18:51.514Z"
   },
   {
    "duration": 6,
    "start_time": "2022-05-01T20:18:51.525Z"
   },
   {
    "duration": 6,
    "start_time": "2022-05-01T20:18:51.532Z"
   },
   {
    "duration": 43,
    "start_time": "2022-05-01T20:18:51.540Z"
   },
   {
    "duration": 10,
    "start_time": "2022-05-01T20:18:51.585Z"
   },
   {
    "duration": 4,
    "start_time": "2022-05-01T20:18:51.598Z"
   },
   {
    "duration": 8,
    "start_time": "2022-05-01T20:18:51.604Z"
   },
   {
    "duration": 4669,
    "start_time": "2022-05-01T20:18:51.614Z"
   },
   {
    "duration": 147,
    "start_time": "2022-05-01T20:18:56.285Z"
   },
   {
    "duration": 7410,
    "start_time": "2022-05-01T20:18:56.433Z"
   },
   {
    "duration": 178,
    "start_time": "2022-05-01T20:19:03.845Z"
   },
   {
    "duration": 58,
    "start_time": "2022-05-01T20:19:04.025Z"
   },
   {
    "duration": 415,
    "start_time": "2022-05-01T20:19:04.084Z"
   },
   {
    "duration": 161,
    "start_time": "2022-05-01T20:19:04.501Z"
   },
   {
    "duration": 12,
    "start_time": "2022-05-01T20:19:04.664Z"
   },
   {
    "duration": 3763,
    "start_time": "2022-05-01T20:19:04.679Z"
   },
   {
    "duration": 6937,
    "start_time": "2022-05-01T20:19:08.444Z"
   },
   {
    "duration": 196,
    "start_time": "2022-05-01T20:19:15.384Z"
   },
   {
    "duration": 158,
    "start_time": "2022-05-01T20:19:15.582Z"
   },
   {
    "duration": 19,
    "start_time": "2022-05-01T20:19:15.742Z"
   },
   {
    "duration": 237,
    "start_time": "2022-05-01T20:19:15.773Z"
   },
   {
    "duration": 2400,
    "start_time": "2022-05-01T20:19:16.012Z"
   },
   {
    "duration": 2203,
    "start_time": "2022-05-01T20:19:18.474Z"
   },
   {
    "duration": 199,
    "start_time": "2022-05-01T20:19:20.684Z"
   },
   {
    "duration": 214,
    "start_time": "2022-05-01T20:19:20.974Z"
   },
   {
    "duration": 11,
    "start_time": "2022-05-01T20:19:21.189Z"
   },
   {
    "duration": 411,
    "start_time": "2022-05-01T20:19:21.274Z"
   },
   {
    "duration": 521,
    "start_time": "2022-05-01T20:19:21.687Z"
   },
   {
    "duration": 149,
    "start_time": "2022-05-01T20:20:38.152Z"
   },
   {
    "duration": 147,
    "start_time": "2022-05-01T20:20:58.278Z"
   },
   {
    "duration": 143,
    "start_time": "2022-05-01T20:24:57.801Z"
   },
   {
    "duration": 7276,
    "start_time": "2022-05-01T20:25:04.782Z"
   },
   {
    "duration": 155,
    "start_time": "2022-05-01T20:25:12.060Z"
   },
   {
    "duration": 4,
    "start_time": "2022-05-01T20:31:36.026Z"
   },
   {
    "duration": 1474,
    "start_time": "2022-05-01T20:31:36.033Z"
   },
   {
    "duration": 78,
    "start_time": "2022-05-01T20:31:37.509Z"
   },
   {
    "duration": 15,
    "start_time": "2022-05-01T20:31:37.589Z"
   },
   {
    "duration": 6,
    "start_time": "2022-05-01T20:31:37.606Z"
   },
   {
    "duration": 10,
    "start_time": "2022-05-01T20:31:37.614Z"
   },
   {
    "duration": 6,
    "start_time": "2022-05-01T20:31:37.626Z"
   },
   {
    "duration": 5,
    "start_time": "2022-05-01T20:31:37.634Z"
   },
   {
    "duration": 47,
    "start_time": "2022-05-01T20:31:37.641Z"
   },
   {
    "duration": 11,
    "start_time": "2022-05-01T20:31:37.690Z"
   },
   {
    "duration": 5,
    "start_time": "2022-05-01T20:31:37.704Z"
   },
   {
    "duration": 17,
    "start_time": "2022-05-01T20:31:37.710Z"
   },
   {
    "duration": 4548,
    "start_time": "2022-05-01T20:31:37.729Z"
   },
   {
    "duration": 143,
    "start_time": "2022-05-01T20:31:42.279Z"
   },
   {
    "duration": 7067,
    "start_time": "2022-05-01T20:31:42.424Z"
   },
   {
    "duration": 152,
    "start_time": "2022-05-01T20:31:49.492Z"
   },
   {
    "duration": 37,
    "start_time": "2022-05-01T20:31:49.645Z"
   },
   {
    "duration": 403,
    "start_time": "2022-05-01T20:31:49.685Z"
   },
   {
    "duration": 125,
    "start_time": "2022-05-01T20:31:50.090Z"
   },
   {
    "duration": 6,
    "start_time": "2022-05-01T20:31:50.216Z"
   },
   {
    "duration": 3466,
    "start_time": "2022-05-01T20:31:50.224Z"
   },
   {
    "duration": 5878,
    "start_time": "2022-05-01T20:31:53.691Z"
   },
   {
    "duration": 183,
    "start_time": "2022-05-01T20:31:59.570Z"
   },
   {
    "duration": 155,
    "start_time": "2022-05-01T20:31:59.755Z"
   },
   {
    "duration": 17,
    "start_time": "2022-05-01T20:31:59.912Z"
   },
   {
    "duration": 240,
    "start_time": "2022-05-01T20:31:59.931Z"
   },
   {
    "duration": 2440,
    "start_time": "2022-05-01T20:32:00.173Z"
   },
   {
    "duration": 2003,
    "start_time": "2022-05-01T20:32:02.675Z"
   },
   {
    "duration": 103,
    "start_time": "2022-05-01T20:32:04.773Z"
   },
   {
    "duration": 314,
    "start_time": "2022-05-01T20:32:04.880Z"
   },
   {
    "duration": 9,
    "start_time": "2022-05-01T20:32:05.195Z"
   },
   {
    "duration": 474,
    "start_time": "2022-05-01T20:32:05.206Z"
   },
   {
    "duration": 541,
    "start_time": "2022-05-01T20:32:05.682Z"
   },
   {
    "duration": 5,
    "start_time": "2022-05-01T20:41:16.475Z"
   },
   {
    "duration": 1428,
    "start_time": "2022-05-01T20:41:16.482Z"
   },
   {
    "duration": 95,
    "start_time": "2022-05-01T20:41:17.912Z"
   },
   {
    "duration": 15,
    "start_time": "2022-05-01T20:41:18.008Z"
   },
   {
    "duration": 9,
    "start_time": "2022-05-01T20:41:18.026Z"
   },
   {
    "duration": 11,
    "start_time": "2022-05-01T20:41:18.037Z"
   },
   {
    "duration": 8,
    "start_time": "2022-05-01T20:41:18.050Z"
   },
   {
    "duration": 4,
    "start_time": "2022-05-01T20:41:18.073Z"
   },
   {
    "duration": 23,
    "start_time": "2022-05-01T20:41:18.080Z"
   },
   {
    "duration": 12,
    "start_time": "2022-05-01T20:41:18.106Z"
   },
   {
    "duration": 5,
    "start_time": "2022-05-01T20:41:18.122Z"
   },
   {
    "duration": 13,
    "start_time": "2022-05-01T20:41:18.129Z"
   },
   {
    "duration": 4643,
    "start_time": "2022-05-01T20:41:18.144Z"
   },
   {
    "duration": 149,
    "start_time": "2022-05-01T20:41:22.789Z"
   },
   {
    "duration": 7489,
    "start_time": "2022-05-01T20:41:22.939Z"
   },
   {
    "duration": 159,
    "start_time": "2022-05-01T20:41:30.430Z"
   },
   {
    "duration": 86,
    "start_time": "2022-05-01T20:41:30.591Z"
   },
   {
    "duration": 408,
    "start_time": "2022-05-01T20:41:30.679Z"
   },
   {
    "duration": 138,
    "start_time": "2022-05-01T20:41:31.088Z"
   },
   {
    "duration": 7,
    "start_time": "2022-05-01T20:41:31.227Z"
   },
   {
    "duration": 3790,
    "start_time": "2022-05-01T20:41:31.235Z"
   },
   {
    "duration": 6208,
    "start_time": "2022-05-01T20:41:35.027Z"
   },
   {
    "duration": 190,
    "start_time": "2022-05-01T20:41:41.238Z"
   },
   {
    "duration": 154,
    "start_time": "2022-05-01T20:41:41.431Z"
   },
   {
    "duration": 19,
    "start_time": "2022-05-01T20:41:41.587Z"
   },
   {
    "duration": 229,
    "start_time": "2022-05-01T20:41:41.608Z"
   },
   {
    "duration": 2470,
    "start_time": "2022-05-01T20:41:41.839Z"
   },
   {
    "duration": 2002,
    "start_time": "2022-05-01T20:41:44.375Z"
   },
   {
    "duration": 120,
    "start_time": "2022-05-01T20:41:46.382Z"
   },
   {
    "duration": 374,
    "start_time": "2022-05-01T20:41:46.504Z"
   },
   {
    "duration": 8,
    "start_time": "2022-05-01T20:41:46.880Z"
   },
   {
    "duration": 559,
    "start_time": "2022-05-01T20:41:46.890Z"
   },
   {
    "duration": 529,
    "start_time": "2022-05-01T20:41:47.450Z"
   }
  ],
  "kernelspec": {
   "display_name": "Python 3",
   "language": "python",
   "name": "python3"
  },
  "language_info": {
   "codemirror_mode": {
    "name": "ipython",
    "version": 3
   },
   "file_extension": ".py",
   "mimetype": "text/x-python",
   "name": "python",
   "nbconvert_exporter": "python",
   "pygments_lexer": "ipython3",
   "version": "3.8.8"
  },
  "toc": {
   "base_numbering": 1,
   "nav_menu": {},
   "number_sections": true,
   "sideBar": true,
   "skip_h1_title": true,
   "title_cell": "Table of Contents",
   "title_sidebar": "Contents",
   "toc_cell": false,
   "toc_position": {},
   "toc_section_display": true,
   "toc_window_display": false
  }
 },
 "nbformat": 4,
 "nbformat_minor": 5
}
